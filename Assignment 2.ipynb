{
 "cells": [
  {
   "cell_type": "code",
   "execution_count": 253,
   "id": "08c3d55b",
   "metadata": {},
   "outputs": [],
   "source": [
    "import pandas as pd"
   ]
  },
  {
   "cell_type": "code",
   "execution_count": 254,
   "id": "09a05c00",
   "metadata": {},
   "outputs": [],
   "source": [
    "df=pd.read_csv('results.csv')"
   ]
  },
  {
   "cell_type": "code",
   "execution_count": 255,
   "id": "ae9309a9",
   "metadata": {},
   "outputs": [
    {
     "data": {
      "text/html": [
       "<div>\n",
       "<style scoped>\n",
       "    .dataframe tbody tr th:only-of-type {\n",
       "        vertical-align: middle;\n",
       "    }\n",
       "\n",
       "    .dataframe tbody tr th {\n",
       "        vertical-align: top;\n",
       "    }\n",
       "\n",
       "    .dataframe thead th {\n",
       "        text-align: right;\n",
       "    }\n",
       "</style>\n",
       "<table border=\"1\" class=\"dataframe\">\n",
       "  <thead>\n",
       "    <tr style=\"text-align: right;\">\n",
       "      <th></th>\n",
       "      <th>date</th>\n",
       "      <th>home_team</th>\n",
       "      <th>away_team</th>\n",
       "      <th>home_score</th>\n",
       "      <th>away_score</th>\n",
       "      <th>tournament</th>\n",
       "      <th>city</th>\n",
       "      <th>country</th>\n",
       "      <th>neutral</th>\n",
       "    </tr>\n",
       "  </thead>\n",
       "  <tbody>\n",
       "    <tr>\n",
       "      <th>0</th>\n",
       "      <td>1872-11-30</td>\n",
       "      <td>Scotland</td>\n",
       "      <td>England</td>\n",
       "      <td>0</td>\n",
       "      <td>0</td>\n",
       "      <td>Friendly</td>\n",
       "      <td>Glasgow</td>\n",
       "      <td>Scotland</td>\n",
       "      <td>False</td>\n",
       "    </tr>\n",
       "    <tr>\n",
       "      <th>1</th>\n",
       "      <td>1873-03-08</td>\n",
       "      <td>England</td>\n",
       "      <td>Scotland</td>\n",
       "      <td>4</td>\n",
       "      <td>2</td>\n",
       "      <td>Friendly</td>\n",
       "      <td>London</td>\n",
       "      <td>England</td>\n",
       "      <td>False</td>\n",
       "    </tr>\n",
       "    <tr>\n",
       "      <th>2</th>\n",
       "      <td>1874-03-07</td>\n",
       "      <td>Scotland</td>\n",
       "      <td>England</td>\n",
       "      <td>2</td>\n",
       "      <td>1</td>\n",
       "      <td>Friendly</td>\n",
       "      <td>Glasgow</td>\n",
       "      <td>Scotland</td>\n",
       "      <td>False</td>\n",
       "    </tr>\n",
       "    <tr>\n",
       "      <th>3</th>\n",
       "      <td>1875-03-06</td>\n",
       "      <td>England</td>\n",
       "      <td>Scotland</td>\n",
       "      <td>2</td>\n",
       "      <td>2</td>\n",
       "      <td>Friendly</td>\n",
       "      <td>London</td>\n",
       "      <td>England</td>\n",
       "      <td>False</td>\n",
       "    </tr>\n",
       "    <tr>\n",
       "      <th>4</th>\n",
       "      <td>1876-03-04</td>\n",
       "      <td>Scotland</td>\n",
       "      <td>England</td>\n",
       "      <td>3</td>\n",
       "      <td>0</td>\n",
       "      <td>Friendly</td>\n",
       "      <td>Glasgow</td>\n",
       "      <td>Scotland</td>\n",
       "      <td>False</td>\n",
       "    </tr>\n",
       "    <tr>\n",
       "      <th>...</th>\n",
       "      <td>...</td>\n",
       "      <td>...</td>\n",
       "      <td>...</td>\n",
       "      <td>...</td>\n",
       "      <td>...</td>\n",
       "      <td>...</td>\n",
       "      <td>...</td>\n",
       "      <td>...</td>\n",
       "      <td>...</td>\n",
       "    </tr>\n",
       "    <tr>\n",
       "      <th>43183</th>\n",
       "      <td>2/1/2022</td>\n",
       "      <td>Suriname</td>\n",
       "      <td>Guyana</td>\n",
       "      <td>2</td>\n",
       "      <td>1</td>\n",
       "      <td>Friendly</td>\n",
       "      <td>Paramaribo</td>\n",
       "      <td>Suriname</td>\n",
       "      <td>False</td>\n",
       "    </tr>\n",
       "    <tr>\n",
       "      <th>43184</th>\n",
       "      <td>2/2/2022</td>\n",
       "      <td>Burkina Faso</td>\n",
       "      <td>Senegal</td>\n",
       "      <td>1</td>\n",
       "      <td>3</td>\n",
       "      <td>African Cup of Nations</td>\n",
       "      <td>Yaoundé</td>\n",
       "      <td>Cameroon</td>\n",
       "      <td>True</td>\n",
       "    </tr>\n",
       "    <tr>\n",
       "      <th>43185</th>\n",
       "      <td>2/3/2022</td>\n",
       "      <td>Cameroon</td>\n",
       "      <td>Egypt</td>\n",
       "      <td>0</td>\n",
       "      <td>0</td>\n",
       "      <td>African Cup of Nations</td>\n",
       "      <td>Yaoundé</td>\n",
       "      <td>Cameroon</td>\n",
       "      <td>False</td>\n",
       "    </tr>\n",
       "    <tr>\n",
       "      <th>43186</th>\n",
       "      <td>2/5/2022</td>\n",
       "      <td>Cameroon</td>\n",
       "      <td>Burkina Faso</td>\n",
       "      <td>3</td>\n",
       "      <td>3</td>\n",
       "      <td>African Cup of Nations</td>\n",
       "      <td>Yaoundé</td>\n",
       "      <td>Cameroon</td>\n",
       "      <td>False</td>\n",
       "    </tr>\n",
       "    <tr>\n",
       "      <th>43187</th>\n",
       "      <td>2/6/2022</td>\n",
       "      <td>Senegal</td>\n",
       "      <td>Egypt</td>\n",
       "      <td>0</td>\n",
       "      <td>0</td>\n",
       "      <td>African Cup of Nations</td>\n",
       "      <td>Yaoundé</td>\n",
       "      <td>Cameroon</td>\n",
       "      <td>True</td>\n",
       "    </tr>\n",
       "  </tbody>\n",
       "</table>\n",
       "<p>43188 rows × 9 columns</p>\n",
       "</div>"
      ],
      "text/plain": [
       "             date     home_team     away_team  home_score  away_score  \\\n",
       "0      1872-11-30      Scotland       England           0           0   \n",
       "1      1873-03-08       England      Scotland           4           2   \n",
       "2      1874-03-07      Scotland       England           2           1   \n",
       "3      1875-03-06       England      Scotland           2           2   \n",
       "4      1876-03-04      Scotland       England           3           0   \n",
       "...           ...           ...           ...         ...         ...   \n",
       "43183    2/1/2022      Suriname        Guyana           2           1   \n",
       "43184    2/2/2022  Burkina Faso       Senegal           1           3   \n",
       "43185    2/3/2022      Cameroon         Egypt           0           0   \n",
       "43186    2/5/2022      Cameroon  Burkina Faso           3           3   \n",
       "43187    2/6/2022       Senegal         Egypt           0           0   \n",
       "\n",
       "                   tournament        city   country  neutral  \n",
       "0                    Friendly     Glasgow  Scotland    False  \n",
       "1                    Friendly      London   England    False  \n",
       "2                    Friendly     Glasgow  Scotland    False  \n",
       "3                    Friendly      London   England    False  \n",
       "4                    Friendly     Glasgow  Scotland    False  \n",
       "...                       ...         ...       ...      ...  \n",
       "43183                Friendly  Paramaribo  Suriname    False  \n",
       "43184  African Cup of Nations     Yaoundé  Cameroon     True  \n",
       "43185  African Cup of Nations     Yaoundé  Cameroon    False  \n",
       "43186  African Cup of Nations     Yaoundé  Cameroon    False  \n",
       "43187  African Cup of Nations     Yaoundé  Cameroon     True  \n",
       "\n",
       "[43188 rows x 9 columns]"
      ]
     },
     "execution_count": 255,
     "metadata": {},
     "output_type": "execute_result"
    }
   ],
   "source": [
    "df"
   ]
  },
  {
   "cell_type": "code",
   "execution_count": 256,
   "id": "ee61e609",
   "metadata": {},
   "outputs": [
    {
     "data": {
      "text/plain": [
       "(43188, 9)"
      ]
     },
     "execution_count": 256,
     "metadata": {},
     "output_type": "execute_result"
    }
   ],
   "source": [
    "df.shape"
   ]
  },
  {
   "cell_type": "code",
   "execution_count": 257,
   "id": "729b1b9d",
   "metadata": {},
   "outputs": [
    {
     "data": {
      "text/plain": [
       "United States          1237\n",
       "France                  818\n",
       "Malaysia                744\n",
       "England                 717\n",
       "Sweden                  655\n",
       "                       ... \n",
       "Belgian Congo             1\n",
       "Portuguese Guinea         1\n",
       "Bohemia and Moravia       1\n",
       "Lautoka                   1\n",
       "Mali Federation           1\n",
       "Name: country, Length: 267, dtype: int64"
      ]
     },
     "execution_count": 257,
     "metadata": {},
     "output_type": "execute_result"
    }
   ],
   "source": [
    "df['country'].value_counts()"
   ]
  },
  {
   "cell_type": "code",
   "execution_count": 258,
   "id": "8407a65c",
   "metadata": {},
   "outputs": [],
   "source": [
    "x=df['home_score']-df['away_score']"
   ]
  },
  {
   "cell_type": "code",
   "execution_count": 259,
   "id": "986e69b1",
   "metadata": {},
   "outputs": [
    {
     "data": {
      "text/plain": [
       "0        0\n",
       "1        2\n",
       "2        1\n",
       "3        0\n",
       "4        3\n",
       "        ..\n",
       "43183    1\n",
       "43184   -2\n",
       "43185    0\n",
       "43186    0\n",
       "43187    0\n",
       "Length: 43188, dtype: int64"
      ]
     },
     "execution_count": 259,
     "metadata": {},
     "output_type": "execute_result"
    }
   ],
   "source": [
    "x"
   ]
  },
  {
   "cell_type": "code",
   "execution_count": 260,
   "id": "1bc85311",
   "metadata": {},
   "outputs": [],
   "source": [
    "conditions=[(x>0),(x<0),(x==0)]"
   ]
  },
  {
   "cell_type": "code",
   "execution_count": 261,
   "id": "bd0897cd",
   "metadata": {},
   "outputs": [],
   "source": [
    "values=['win','lose','draw']"
   ]
  },
  {
   "cell_type": "code",
   "execution_count": 262,
   "id": "34d3b644",
   "metadata": {},
   "outputs": [],
   "source": [
    "import numpy as np"
   ]
  },
  {
   "cell_type": "code",
   "execution_count": 263,
   "id": "2d175089",
   "metadata": {},
   "outputs": [],
   "source": [
    "df['result']=np.select(conditions,values)"
   ]
  },
  {
   "cell_type": "code",
   "execution_count": 264,
   "id": "66270e31",
   "metadata": {},
   "outputs": [
    {
     "data": {
      "text/html": [
       "<div>\n",
       "<style scoped>\n",
       "    .dataframe tbody tr th:only-of-type {\n",
       "        vertical-align: middle;\n",
       "    }\n",
       "\n",
       "    .dataframe tbody tr th {\n",
       "        vertical-align: top;\n",
       "    }\n",
       "\n",
       "    .dataframe thead th {\n",
       "        text-align: right;\n",
       "    }\n",
       "</style>\n",
       "<table border=\"1\" class=\"dataframe\">\n",
       "  <thead>\n",
       "    <tr style=\"text-align: right;\">\n",
       "      <th></th>\n",
       "      <th>date</th>\n",
       "      <th>home_team</th>\n",
       "      <th>away_team</th>\n",
       "      <th>home_score</th>\n",
       "      <th>away_score</th>\n",
       "      <th>tournament</th>\n",
       "      <th>city</th>\n",
       "      <th>country</th>\n",
       "      <th>neutral</th>\n",
       "      <th>result</th>\n",
       "    </tr>\n",
       "  </thead>\n",
       "  <tbody>\n",
       "    <tr>\n",
       "      <th>0</th>\n",
       "      <td>1872-11-30</td>\n",
       "      <td>Scotland</td>\n",
       "      <td>England</td>\n",
       "      <td>0</td>\n",
       "      <td>0</td>\n",
       "      <td>Friendly</td>\n",
       "      <td>Glasgow</td>\n",
       "      <td>Scotland</td>\n",
       "      <td>False</td>\n",
       "      <td>draw</td>\n",
       "    </tr>\n",
       "    <tr>\n",
       "      <th>1</th>\n",
       "      <td>1873-03-08</td>\n",
       "      <td>England</td>\n",
       "      <td>Scotland</td>\n",
       "      <td>4</td>\n",
       "      <td>2</td>\n",
       "      <td>Friendly</td>\n",
       "      <td>London</td>\n",
       "      <td>England</td>\n",
       "      <td>False</td>\n",
       "      <td>win</td>\n",
       "    </tr>\n",
       "    <tr>\n",
       "      <th>2</th>\n",
       "      <td>1874-03-07</td>\n",
       "      <td>Scotland</td>\n",
       "      <td>England</td>\n",
       "      <td>2</td>\n",
       "      <td>1</td>\n",
       "      <td>Friendly</td>\n",
       "      <td>Glasgow</td>\n",
       "      <td>Scotland</td>\n",
       "      <td>False</td>\n",
       "      <td>win</td>\n",
       "    </tr>\n",
       "    <tr>\n",
       "      <th>3</th>\n",
       "      <td>1875-03-06</td>\n",
       "      <td>England</td>\n",
       "      <td>Scotland</td>\n",
       "      <td>2</td>\n",
       "      <td>2</td>\n",
       "      <td>Friendly</td>\n",
       "      <td>London</td>\n",
       "      <td>England</td>\n",
       "      <td>False</td>\n",
       "      <td>draw</td>\n",
       "    </tr>\n",
       "    <tr>\n",
       "      <th>4</th>\n",
       "      <td>1876-03-04</td>\n",
       "      <td>Scotland</td>\n",
       "      <td>England</td>\n",
       "      <td>3</td>\n",
       "      <td>0</td>\n",
       "      <td>Friendly</td>\n",
       "      <td>Glasgow</td>\n",
       "      <td>Scotland</td>\n",
       "      <td>False</td>\n",
       "      <td>win</td>\n",
       "    </tr>\n",
       "    <tr>\n",
       "      <th>...</th>\n",
       "      <td>...</td>\n",
       "      <td>...</td>\n",
       "      <td>...</td>\n",
       "      <td>...</td>\n",
       "      <td>...</td>\n",
       "      <td>...</td>\n",
       "      <td>...</td>\n",
       "      <td>...</td>\n",
       "      <td>...</td>\n",
       "      <td>...</td>\n",
       "    </tr>\n",
       "    <tr>\n",
       "      <th>43183</th>\n",
       "      <td>2/1/2022</td>\n",
       "      <td>Suriname</td>\n",
       "      <td>Guyana</td>\n",
       "      <td>2</td>\n",
       "      <td>1</td>\n",
       "      <td>Friendly</td>\n",
       "      <td>Paramaribo</td>\n",
       "      <td>Suriname</td>\n",
       "      <td>False</td>\n",
       "      <td>win</td>\n",
       "    </tr>\n",
       "    <tr>\n",
       "      <th>43184</th>\n",
       "      <td>2/2/2022</td>\n",
       "      <td>Burkina Faso</td>\n",
       "      <td>Senegal</td>\n",
       "      <td>1</td>\n",
       "      <td>3</td>\n",
       "      <td>African Cup of Nations</td>\n",
       "      <td>Yaoundé</td>\n",
       "      <td>Cameroon</td>\n",
       "      <td>True</td>\n",
       "      <td>lose</td>\n",
       "    </tr>\n",
       "    <tr>\n",
       "      <th>43185</th>\n",
       "      <td>2/3/2022</td>\n",
       "      <td>Cameroon</td>\n",
       "      <td>Egypt</td>\n",
       "      <td>0</td>\n",
       "      <td>0</td>\n",
       "      <td>African Cup of Nations</td>\n",
       "      <td>Yaoundé</td>\n",
       "      <td>Cameroon</td>\n",
       "      <td>False</td>\n",
       "      <td>draw</td>\n",
       "    </tr>\n",
       "    <tr>\n",
       "      <th>43186</th>\n",
       "      <td>2/5/2022</td>\n",
       "      <td>Cameroon</td>\n",
       "      <td>Burkina Faso</td>\n",
       "      <td>3</td>\n",
       "      <td>3</td>\n",
       "      <td>African Cup of Nations</td>\n",
       "      <td>Yaoundé</td>\n",
       "      <td>Cameroon</td>\n",
       "      <td>False</td>\n",
       "      <td>draw</td>\n",
       "    </tr>\n",
       "    <tr>\n",
       "      <th>43187</th>\n",
       "      <td>2/6/2022</td>\n",
       "      <td>Senegal</td>\n",
       "      <td>Egypt</td>\n",
       "      <td>0</td>\n",
       "      <td>0</td>\n",
       "      <td>African Cup of Nations</td>\n",
       "      <td>Yaoundé</td>\n",
       "      <td>Cameroon</td>\n",
       "      <td>True</td>\n",
       "      <td>draw</td>\n",
       "    </tr>\n",
       "  </tbody>\n",
       "</table>\n",
       "<p>43188 rows × 10 columns</p>\n",
       "</div>"
      ],
      "text/plain": [
       "             date     home_team     away_team  home_score  away_score  \\\n",
       "0      1872-11-30      Scotland       England           0           0   \n",
       "1      1873-03-08       England      Scotland           4           2   \n",
       "2      1874-03-07      Scotland       England           2           1   \n",
       "3      1875-03-06       England      Scotland           2           2   \n",
       "4      1876-03-04      Scotland       England           3           0   \n",
       "...           ...           ...           ...         ...         ...   \n",
       "43183    2/1/2022      Suriname        Guyana           2           1   \n",
       "43184    2/2/2022  Burkina Faso       Senegal           1           3   \n",
       "43185    2/3/2022      Cameroon         Egypt           0           0   \n",
       "43186    2/5/2022      Cameroon  Burkina Faso           3           3   \n",
       "43187    2/6/2022       Senegal         Egypt           0           0   \n",
       "\n",
       "                   tournament        city   country  neutral result  \n",
       "0                    Friendly     Glasgow  Scotland    False   draw  \n",
       "1                    Friendly      London   England    False    win  \n",
       "2                    Friendly     Glasgow  Scotland    False    win  \n",
       "3                    Friendly      London   England    False   draw  \n",
       "4                    Friendly     Glasgow  Scotland    False    win  \n",
       "...                       ...         ...       ...      ...    ...  \n",
       "43183                Friendly  Paramaribo  Suriname    False    win  \n",
       "43184  African Cup of Nations     Yaoundé  Cameroon     True   lose  \n",
       "43185  African Cup of Nations     Yaoundé  Cameroon    False   draw  \n",
       "43186  African Cup of Nations     Yaoundé  Cameroon    False   draw  \n",
       "43187  African Cup of Nations     Yaoundé  Cameroon     True   draw  \n",
       "\n",
       "[43188 rows x 10 columns]"
      ]
     },
     "execution_count": 264,
     "metadata": {},
     "output_type": "execute_result"
    }
   ],
   "source": [
    "df"
   ]
  },
  {
   "cell_type": "code",
   "execution_count": 265,
   "id": "e2a3c68e",
   "metadata": {},
   "outputs": [
    {
     "data": {
      "text/plain": [
       "win     21009\n",
       "lose    12224\n",
       "draw     9955\n",
       "Name: result, dtype: int64"
      ]
     },
     "execution_count": 265,
     "metadata": {},
     "output_type": "execute_result"
    }
   ],
   "source": [
    "df['result'].value_counts()"
   ]
  },
  {
   "cell_type": "code",
   "execution_count": 266,
   "id": "9c9d88a6",
   "metadata": {},
   "outputs": [
    {
     "data": {
      "text/plain": [
       "win     0.486455\n",
       "lose    0.283042\n",
       "draw    0.230504\n",
       "Name: result, dtype: float64"
      ]
     },
     "execution_count": 266,
     "metadata": {},
     "output_type": "execute_result"
    }
   ],
   "source": [
    "df['result'].value_counts(normalize=True)"
   ]
  },
  {
   "cell_type": "code",
   "execution_count": 267,
   "id": "c16d637f",
   "metadata": {},
   "outputs": [
    {
     "data": {
      "text/html": [
       "<div>\n",
       "<style scoped>\n",
       "    .dataframe tbody tr th:only-of-type {\n",
       "        vertical-align: middle;\n",
       "    }\n",
       "\n",
       "    .dataframe tbody tr th {\n",
       "        vertical-align: top;\n",
       "    }\n",
       "\n",
       "    .dataframe thead th {\n",
       "        text-align: right;\n",
       "    }\n",
       "</style>\n",
       "<table border=\"1\" class=\"dataframe\">\n",
       "  <thead>\n",
       "    <tr style=\"text-align: right;\">\n",
       "      <th></th>\n",
       "      <th>date</th>\n",
       "      <th>home_team</th>\n",
       "      <th>away_team</th>\n",
       "      <th>home_score</th>\n",
       "      <th>away_score</th>\n",
       "      <th>tournament</th>\n",
       "      <th>city</th>\n",
       "      <th>country</th>\n",
       "      <th>neutral</th>\n",
       "      <th>result</th>\n",
       "    </tr>\n",
       "  </thead>\n",
       "  <tbody>\n",
       "    <tr>\n",
       "      <th>41</th>\n",
       "      <td>1885-11-28</td>\n",
       "      <td>United States</td>\n",
       "      <td>Canada</td>\n",
       "      <td>0</td>\n",
       "      <td>1</td>\n",
       "      <td>Friendly</td>\n",
       "      <td>Newark</td>\n",
       "      <td>United States</td>\n",
       "      <td>False</td>\n",
       "      <td>lose</td>\n",
       "    </tr>\n",
       "    <tr>\n",
       "      <th>48</th>\n",
       "      <td>1886-11-25</td>\n",
       "      <td>United States</td>\n",
       "      <td>Canada</td>\n",
       "      <td>3</td>\n",
       "      <td>2</td>\n",
       "      <td>Friendly</td>\n",
       "      <td>Newark</td>\n",
       "      <td>United States</td>\n",
       "      <td>False</td>\n",
       "      <td>win</td>\n",
       "    </tr>\n",
       "    <tr>\n",
       "      <th>935</th>\n",
       "      <td>11/8/1925</td>\n",
       "      <td>United States</td>\n",
       "      <td>Canada</td>\n",
       "      <td>6</td>\n",
       "      <td>1</td>\n",
       "      <td>Friendly</td>\n",
       "      <td>New York</td>\n",
       "      <td>United States</td>\n",
       "      <td>False</td>\n",
       "      <td>win</td>\n",
       "    </tr>\n",
       "    <tr>\n",
       "      <th>1022</th>\n",
       "      <td>11/6/1926</td>\n",
       "      <td>United States</td>\n",
       "      <td>Canada</td>\n",
       "      <td>6</td>\n",
       "      <td>2</td>\n",
       "      <td>Friendly</td>\n",
       "      <td>New York</td>\n",
       "      <td>United States</td>\n",
       "      <td>False</td>\n",
       "      <td>win</td>\n",
       "    </tr>\n",
       "    <tr>\n",
       "      <th>1790</th>\n",
       "      <td>5/19/1935</td>\n",
       "      <td>United States</td>\n",
       "      <td>Scotland</td>\n",
       "      <td>1</td>\n",
       "      <td>5</td>\n",
       "      <td>Friendly</td>\n",
       "      <td>New York</td>\n",
       "      <td>United States</td>\n",
       "      <td>False</td>\n",
       "      <td>lose</td>\n",
       "    </tr>\n",
       "    <tr>\n",
       "      <th>...</th>\n",
       "      <td>...</td>\n",
       "      <td>...</td>\n",
       "      <td>...</td>\n",
       "      <td>...</td>\n",
       "      <td>...</td>\n",
       "      <td>...</td>\n",
       "      <td>...</td>\n",
       "      <td>...</td>\n",
       "      <td>...</td>\n",
       "      <td>...</td>\n",
       "    </tr>\n",
       "    <tr>\n",
       "      <th>43079</th>\n",
       "      <td>12/4/2021</td>\n",
       "      <td>El Salvador</td>\n",
       "      <td>Ecuador</td>\n",
       "      <td>1</td>\n",
       "      <td>1</td>\n",
       "      <td>Friendly</td>\n",
       "      <td>Houston</td>\n",
       "      <td>United States</td>\n",
       "      <td>True</td>\n",
       "      <td>draw</td>\n",
       "    </tr>\n",
       "    <tr>\n",
       "      <th>43092</th>\n",
       "      <td>12/8/2021</td>\n",
       "      <td>Mexico</td>\n",
       "      <td>Chile</td>\n",
       "      <td>2</td>\n",
       "      <td>2</td>\n",
       "      <td>Friendly</td>\n",
       "      <td>Austin</td>\n",
       "      <td>United States</td>\n",
       "      <td>True</td>\n",
       "      <td>draw</td>\n",
       "    </tr>\n",
       "    <tr>\n",
       "      <th>43098</th>\n",
       "      <td>12/11/2021</td>\n",
       "      <td>El Salvador</td>\n",
       "      <td>Chile</td>\n",
       "      <td>0</td>\n",
       "      <td>1</td>\n",
       "      <td>Friendly</td>\n",
       "      <td>Los Angeles</td>\n",
       "      <td>United States</td>\n",
       "      <td>True</td>\n",
       "      <td>lose</td>\n",
       "    </tr>\n",
       "    <tr>\n",
       "      <th>43103</th>\n",
       "      <td>12/18/2021</td>\n",
       "      <td>United States</td>\n",
       "      <td>Bosnia and Herzegovina</td>\n",
       "      <td>1</td>\n",
       "      <td>0</td>\n",
       "      <td>Friendly</td>\n",
       "      <td>Los Angeles</td>\n",
       "      <td>United States</td>\n",
       "      <td>False</td>\n",
       "      <td>win</td>\n",
       "    </tr>\n",
       "    <tr>\n",
       "      <th>43135</th>\n",
       "      <td>1/16/2022</td>\n",
       "      <td>Colombia</td>\n",
       "      <td>Honduras</td>\n",
       "      <td>2</td>\n",
       "      <td>1</td>\n",
       "      <td>Friendly</td>\n",
       "      <td>Fort Lauderdale</td>\n",
       "      <td>United States</td>\n",
       "      <td>True</td>\n",
       "      <td>win</td>\n",
       "    </tr>\n",
       "  </tbody>\n",
       "</table>\n",
       "<p>1237 rows × 10 columns</p>\n",
       "</div>"
      ],
      "text/plain": [
       "             date      home_team               away_team  home_score  \\\n",
       "41     1885-11-28  United States                  Canada           0   \n",
       "48     1886-11-25  United States                  Canada           3   \n",
       "935     11/8/1925  United States                  Canada           6   \n",
       "1022    11/6/1926  United States                  Canada           6   \n",
       "1790    5/19/1935  United States                Scotland           1   \n",
       "...           ...            ...                     ...         ...   \n",
       "43079   12/4/2021    El Salvador                 Ecuador           1   \n",
       "43092   12/8/2021         Mexico                   Chile           2   \n",
       "43098  12/11/2021    El Salvador                   Chile           0   \n",
       "43103  12/18/2021  United States  Bosnia and Herzegovina           1   \n",
       "43135   1/16/2022       Colombia                Honduras           2   \n",
       "\n",
       "       away_score tournament             city        country  neutral result  \n",
       "41              1   Friendly           Newark  United States    False   lose  \n",
       "48              2   Friendly           Newark  United States    False    win  \n",
       "935             1   Friendly         New York  United States    False    win  \n",
       "1022            2   Friendly         New York  United States    False    win  \n",
       "1790            5   Friendly         New York  United States    False   lose  \n",
       "...           ...        ...              ...            ...      ...    ...  \n",
       "43079           1   Friendly          Houston  United States     True   draw  \n",
       "43092           2   Friendly           Austin  United States     True   draw  \n",
       "43098           1   Friendly      Los Angeles  United States     True   lose  \n",
       "43103           0   Friendly      Los Angeles  United States    False    win  \n",
       "43135           1   Friendly  Fort Lauderdale  United States     True    win  \n",
       "\n",
       "[1237 rows x 10 columns]"
      ]
     },
     "execution_count": 267,
     "metadata": {},
     "output_type": "execute_result"
    }
   ],
   "source": [
    "df[df['country']=='United States']"
   ]
  },
  {
   "cell_type": "code",
   "execution_count": 268,
   "id": "0eb41b0b",
   "metadata": {},
   "outputs": [
    {
     "data": {
      "text/html": [
       "<div>\n",
       "<style scoped>\n",
       "    .dataframe tbody tr th:only-of-type {\n",
       "        vertical-align: middle;\n",
       "    }\n",
       "\n",
       "    .dataframe tbody tr th {\n",
       "        vertical-align: top;\n",
       "    }\n",
       "\n",
       "    .dataframe thead th {\n",
       "        text-align: right;\n",
       "    }\n",
       "</style>\n",
       "<table border=\"1\" class=\"dataframe\">\n",
       "  <thead>\n",
       "    <tr style=\"text-align: right;\">\n",
       "      <th></th>\n",
       "      <th>date</th>\n",
       "      <th>home_team</th>\n",
       "      <th>away_team</th>\n",
       "      <th>home_score</th>\n",
       "      <th>away_score</th>\n",
       "      <th>tournament</th>\n",
       "      <th>city</th>\n",
       "      <th>country</th>\n",
       "      <th>neutral</th>\n",
       "      <th>result</th>\n",
       "    </tr>\n",
       "  </thead>\n",
       "  <tbody>\n",
       "    <tr>\n",
       "      <th>41</th>\n",
       "      <td>1885-11-28</td>\n",
       "      <td>United States</td>\n",
       "      <td>Canada</td>\n",
       "      <td>0</td>\n",
       "      <td>1</td>\n",
       "      <td>Friendly</td>\n",
       "      <td>Newark</td>\n",
       "      <td>United States</td>\n",
       "      <td>False</td>\n",
       "      <td>lose</td>\n",
       "    </tr>\n",
       "    <tr>\n",
       "      <th>48</th>\n",
       "      <td>1886-11-25</td>\n",
       "      <td>United States</td>\n",
       "      <td>Canada</td>\n",
       "      <td>3</td>\n",
       "      <td>2</td>\n",
       "      <td>Friendly</td>\n",
       "      <td>Newark</td>\n",
       "      <td>United States</td>\n",
       "      <td>False</td>\n",
       "      <td>win</td>\n",
       "    </tr>\n",
       "    <tr>\n",
       "      <th>935</th>\n",
       "      <td>11/8/1925</td>\n",
       "      <td>United States</td>\n",
       "      <td>Canada</td>\n",
       "      <td>6</td>\n",
       "      <td>1</td>\n",
       "      <td>Friendly</td>\n",
       "      <td>New York</td>\n",
       "      <td>United States</td>\n",
       "      <td>False</td>\n",
       "      <td>win</td>\n",
       "    </tr>\n",
       "    <tr>\n",
       "      <th>1022</th>\n",
       "      <td>11/6/1926</td>\n",
       "      <td>United States</td>\n",
       "      <td>Canada</td>\n",
       "      <td>6</td>\n",
       "      <td>2</td>\n",
       "      <td>Friendly</td>\n",
       "      <td>New York</td>\n",
       "      <td>United States</td>\n",
       "      <td>False</td>\n",
       "      <td>win</td>\n",
       "    </tr>\n",
       "    <tr>\n",
       "      <th>1790</th>\n",
       "      <td>5/19/1935</td>\n",
       "      <td>United States</td>\n",
       "      <td>Scotland</td>\n",
       "      <td>1</td>\n",
       "      <td>5</td>\n",
       "      <td>Friendly</td>\n",
       "      <td>New York</td>\n",
       "      <td>United States</td>\n",
       "      <td>False</td>\n",
       "      <td>lose</td>\n",
       "    </tr>\n",
       "    <tr>\n",
       "      <th>...</th>\n",
       "      <td>...</td>\n",
       "      <td>...</td>\n",
       "      <td>...</td>\n",
       "      <td>...</td>\n",
       "      <td>...</td>\n",
       "      <td>...</td>\n",
       "      <td>...</td>\n",
       "      <td>...</td>\n",
       "      <td>...</td>\n",
       "      <td>...</td>\n",
       "    </tr>\n",
       "    <tr>\n",
       "      <th>42693</th>\n",
       "      <td>9/5/2021</td>\n",
       "      <td>United States</td>\n",
       "      <td>Canada</td>\n",
       "      <td>1</td>\n",
       "      <td>1</td>\n",
       "      <td>FIFA World Cup qualification</td>\n",
       "      <td>Nashville</td>\n",
       "      <td>United States</td>\n",
       "      <td>False</td>\n",
       "      <td>draw</td>\n",
       "    </tr>\n",
       "    <tr>\n",
       "      <th>42776</th>\n",
       "      <td>10/7/2021</td>\n",
       "      <td>United States</td>\n",
       "      <td>Jamaica</td>\n",
       "      <td>2</td>\n",
       "      <td>0</td>\n",
       "      <td>FIFA World Cup qualification</td>\n",
       "      <td>Austin</td>\n",
       "      <td>United States</td>\n",
       "      <td>False</td>\n",
       "      <td>win</td>\n",
       "    </tr>\n",
       "    <tr>\n",
       "      <th>42908</th>\n",
       "      <td>10/13/2021</td>\n",
       "      <td>United States</td>\n",
       "      <td>Costa Rica</td>\n",
       "      <td>2</td>\n",
       "      <td>1</td>\n",
       "      <td>FIFA World Cup qualification</td>\n",
       "      <td>Columbus</td>\n",
       "      <td>United States</td>\n",
       "      <td>False</td>\n",
       "      <td>win</td>\n",
       "    </tr>\n",
       "    <tr>\n",
       "      <th>42966</th>\n",
       "      <td>11/12/2021</td>\n",
       "      <td>United States</td>\n",
       "      <td>Mexico</td>\n",
       "      <td>2</td>\n",
       "      <td>0</td>\n",
       "      <td>FIFA World Cup qualification</td>\n",
       "      <td>Cincinnati</td>\n",
       "      <td>United States</td>\n",
       "      <td>False</td>\n",
       "      <td>win</td>\n",
       "    </tr>\n",
       "    <tr>\n",
       "      <th>43103</th>\n",
       "      <td>12/18/2021</td>\n",
       "      <td>United States</td>\n",
       "      <td>Bosnia and Herzegovina</td>\n",
       "      <td>1</td>\n",
       "      <td>0</td>\n",
       "      <td>Friendly</td>\n",
       "      <td>Los Angeles</td>\n",
       "      <td>United States</td>\n",
       "      <td>False</td>\n",
       "      <td>win</td>\n",
       "    </tr>\n",
       "  </tbody>\n",
       "</table>\n",
       "<p>438 rows × 10 columns</p>\n",
       "</div>"
      ],
      "text/plain": [
       "             date      home_team               away_team  home_score  \\\n",
       "41     1885-11-28  United States                  Canada           0   \n",
       "48     1886-11-25  United States                  Canada           3   \n",
       "935     11/8/1925  United States                  Canada           6   \n",
       "1022    11/6/1926  United States                  Canada           6   \n",
       "1790    5/19/1935  United States                Scotland           1   \n",
       "...           ...            ...                     ...         ...   \n",
       "42693    9/5/2021  United States                  Canada           1   \n",
       "42776   10/7/2021  United States                 Jamaica           2   \n",
       "42908  10/13/2021  United States              Costa Rica           2   \n",
       "42966  11/12/2021  United States                  Mexico           2   \n",
       "43103  12/18/2021  United States  Bosnia and Herzegovina           1   \n",
       "\n",
       "       away_score                    tournament         city        country  \\\n",
       "41              1                      Friendly       Newark  United States   \n",
       "48              2                      Friendly       Newark  United States   \n",
       "935             1                      Friendly     New York  United States   \n",
       "1022            2                      Friendly     New York  United States   \n",
       "1790            5                      Friendly     New York  United States   \n",
       "...           ...                           ...          ...            ...   \n",
       "42693           1  FIFA World Cup qualification    Nashville  United States   \n",
       "42776           0  FIFA World Cup qualification       Austin  United States   \n",
       "42908           1  FIFA World Cup qualification     Columbus  United States   \n",
       "42966           0  FIFA World Cup qualification   Cincinnati  United States   \n",
       "43103           0                      Friendly  Los Angeles  United States   \n",
       "\n",
       "       neutral result  \n",
       "41       False   lose  \n",
       "48       False    win  \n",
       "935      False    win  \n",
       "1022     False    win  \n",
       "1790     False   lose  \n",
       "...        ...    ...  \n",
       "42693    False   draw  \n",
       "42776    False    win  \n",
       "42908    False    win  \n",
       "42966    False    win  \n",
       "43103    False    win  \n",
       "\n",
       "[438 rows x 10 columns]"
      ]
     },
     "execution_count": 268,
     "metadata": {},
     "output_type": "execute_result"
    }
   ],
   "source": [
    "df[df['home_team']=='United States']"
   ]
  },
  {
   "cell_type": "code",
   "execution_count": 269,
   "id": "c48cbee6",
   "metadata": {},
   "outputs": [],
   "source": [
    "df_noneutral=df[df['neutral']==False]"
   ]
  },
  {
   "cell_type": "code",
   "execution_count": 270,
   "id": "8f878846",
   "metadata": {},
   "outputs": [
    {
     "data": {
      "text/plain": [
       "win     0.505003\n",
       "lose    0.263693\n",
       "draw    0.231304\n",
       "Name: result, dtype: float64"
      ]
     },
     "execution_count": 270,
     "metadata": {},
     "output_type": "execute_result"
    }
   ],
   "source": [
    "df_noneutral['result'].value_counts(normalize=True)"
   ]
  },
  {
   "cell_type": "code",
   "execution_count": 271,
   "id": "200c62ae",
   "metadata": {},
   "outputs": [
    {
     "data": {
      "text/plain": [
       "(32481, 10)"
      ]
     },
     "execution_count": 271,
     "metadata": {},
     "output_type": "execute_result"
    }
   ],
   "source": [
    "df_noneutral.shape"
   ]
  },
  {
   "cell_type": "code",
   "execution_count": 272,
   "id": "c11902e1",
   "metadata": {},
   "outputs": [],
   "source": [
    "df_noneutralus=df_noneutral[df_noneutral['home_team']=='United States']"
   ]
  },
  {
   "cell_type": "code",
   "execution_count": 273,
   "id": "fe0053d3",
   "metadata": {},
   "outputs": [
    {
     "data": {
      "text/html": [
       "<div>\n",
       "<style scoped>\n",
       "    .dataframe tbody tr th:only-of-type {\n",
       "        vertical-align: middle;\n",
       "    }\n",
       "\n",
       "    .dataframe tbody tr th {\n",
       "        vertical-align: top;\n",
       "    }\n",
       "\n",
       "    .dataframe thead th {\n",
       "        text-align: right;\n",
       "    }\n",
       "</style>\n",
       "<table border=\"1\" class=\"dataframe\">\n",
       "  <thead>\n",
       "    <tr style=\"text-align: right;\">\n",
       "      <th></th>\n",
       "      <th>date</th>\n",
       "      <th>home_team</th>\n",
       "      <th>away_team</th>\n",
       "      <th>home_score</th>\n",
       "      <th>away_score</th>\n",
       "      <th>tournament</th>\n",
       "      <th>city</th>\n",
       "      <th>country</th>\n",
       "      <th>neutral</th>\n",
       "      <th>result</th>\n",
       "    </tr>\n",
       "  </thead>\n",
       "  <tbody>\n",
       "    <tr>\n",
       "      <th>41</th>\n",
       "      <td>1885-11-28</td>\n",
       "      <td>United States</td>\n",
       "      <td>Canada</td>\n",
       "      <td>0</td>\n",
       "      <td>1</td>\n",
       "      <td>Friendly</td>\n",
       "      <td>Newark</td>\n",
       "      <td>United States</td>\n",
       "      <td>False</td>\n",
       "      <td>lose</td>\n",
       "    </tr>\n",
       "    <tr>\n",
       "      <th>48</th>\n",
       "      <td>1886-11-25</td>\n",
       "      <td>United States</td>\n",
       "      <td>Canada</td>\n",
       "      <td>3</td>\n",
       "      <td>2</td>\n",
       "      <td>Friendly</td>\n",
       "      <td>Newark</td>\n",
       "      <td>United States</td>\n",
       "      <td>False</td>\n",
       "      <td>win</td>\n",
       "    </tr>\n",
       "    <tr>\n",
       "      <th>935</th>\n",
       "      <td>11/8/1925</td>\n",
       "      <td>United States</td>\n",
       "      <td>Canada</td>\n",
       "      <td>6</td>\n",
       "      <td>1</td>\n",
       "      <td>Friendly</td>\n",
       "      <td>New York</td>\n",
       "      <td>United States</td>\n",
       "      <td>False</td>\n",
       "      <td>win</td>\n",
       "    </tr>\n",
       "    <tr>\n",
       "      <th>1022</th>\n",
       "      <td>11/6/1926</td>\n",
       "      <td>United States</td>\n",
       "      <td>Canada</td>\n",
       "      <td>6</td>\n",
       "      <td>2</td>\n",
       "      <td>Friendly</td>\n",
       "      <td>New York</td>\n",
       "      <td>United States</td>\n",
       "      <td>False</td>\n",
       "      <td>win</td>\n",
       "    </tr>\n",
       "    <tr>\n",
       "      <th>1790</th>\n",
       "      <td>5/19/1935</td>\n",
       "      <td>United States</td>\n",
       "      <td>Scotland</td>\n",
       "      <td>1</td>\n",
       "      <td>5</td>\n",
       "      <td>Friendly</td>\n",
       "      <td>New York</td>\n",
       "      <td>United States</td>\n",
       "      <td>False</td>\n",
       "      <td>lose</td>\n",
       "    </tr>\n",
       "    <tr>\n",
       "      <th>...</th>\n",
       "      <td>...</td>\n",
       "      <td>...</td>\n",
       "      <td>...</td>\n",
       "      <td>...</td>\n",
       "      <td>...</td>\n",
       "      <td>...</td>\n",
       "      <td>...</td>\n",
       "      <td>...</td>\n",
       "      <td>...</td>\n",
       "      <td>...</td>\n",
       "    </tr>\n",
       "    <tr>\n",
       "      <th>42693</th>\n",
       "      <td>9/5/2021</td>\n",
       "      <td>United States</td>\n",
       "      <td>Canada</td>\n",
       "      <td>1</td>\n",
       "      <td>1</td>\n",
       "      <td>FIFA World Cup qualification</td>\n",
       "      <td>Nashville</td>\n",
       "      <td>United States</td>\n",
       "      <td>False</td>\n",
       "      <td>draw</td>\n",
       "    </tr>\n",
       "    <tr>\n",
       "      <th>42776</th>\n",
       "      <td>10/7/2021</td>\n",
       "      <td>United States</td>\n",
       "      <td>Jamaica</td>\n",
       "      <td>2</td>\n",
       "      <td>0</td>\n",
       "      <td>FIFA World Cup qualification</td>\n",
       "      <td>Austin</td>\n",
       "      <td>United States</td>\n",
       "      <td>False</td>\n",
       "      <td>win</td>\n",
       "    </tr>\n",
       "    <tr>\n",
       "      <th>42908</th>\n",
       "      <td>10/13/2021</td>\n",
       "      <td>United States</td>\n",
       "      <td>Costa Rica</td>\n",
       "      <td>2</td>\n",
       "      <td>1</td>\n",
       "      <td>FIFA World Cup qualification</td>\n",
       "      <td>Columbus</td>\n",
       "      <td>United States</td>\n",
       "      <td>False</td>\n",
       "      <td>win</td>\n",
       "    </tr>\n",
       "    <tr>\n",
       "      <th>42966</th>\n",
       "      <td>11/12/2021</td>\n",
       "      <td>United States</td>\n",
       "      <td>Mexico</td>\n",
       "      <td>2</td>\n",
       "      <td>0</td>\n",
       "      <td>FIFA World Cup qualification</td>\n",
       "      <td>Cincinnati</td>\n",
       "      <td>United States</td>\n",
       "      <td>False</td>\n",
       "      <td>win</td>\n",
       "    </tr>\n",
       "    <tr>\n",
       "      <th>43103</th>\n",
       "      <td>12/18/2021</td>\n",
       "      <td>United States</td>\n",
       "      <td>Bosnia and Herzegovina</td>\n",
       "      <td>1</td>\n",
       "      <td>0</td>\n",
       "      <td>Friendly</td>\n",
       "      <td>Los Angeles</td>\n",
       "      <td>United States</td>\n",
       "      <td>False</td>\n",
       "      <td>win</td>\n",
       "    </tr>\n",
       "  </tbody>\n",
       "</table>\n",
       "<p>411 rows × 10 columns</p>\n",
       "</div>"
      ],
      "text/plain": [
       "             date      home_team               away_team  home_score  \\\n",
       "41     1885-11-28  United States                  Canada           0   \n",
       "48     1886-11-25  United States                  Canada           3   \n",
       "935     11/8/1925  United States                  Canada           6   \n",
       "1022    11/6/1926  United States                  Canada           6   \n",
       "1790    5/19/1935  United States                Scotland           1   \n",
       "...           ...            ...                     ...         ...   \n",
       "42693    9/5/2021  United States                  Canada           1   \n",
       "42776   10/7/2021  United States                 Jamaica           2   \n",
       "42908  10/13/2021  United States              Costa Rica           2   \n",
       "42966  11/12/2021  United States                  Mexico           2   \n",
       "43103  12/18/2021  United States  Bosnia and Herzegovina           1   \n",
       "\n",
       "       away_score                    tournament         city        country  \\\n",
       "41              1                      Friendly       Newark  United States   \n",
       "48              2                      Friendly       Newark  United States   \n",
       "935             1                      Friendly     New York  United States   \n",
       "1022            2                      Friendly     New York  United States   \n",
       "1790            5                      Friendly     New York  United States   \n",
       "...           ...                           ...          ...            ...   \n",
       "42693           1  FIFA World Cup qualification    Nashville  United States   \n",
       "42776           0  FIFA World Cup qualification       Austin  United States   \n",
       "42908           1  FIFA World Cup qualification     Columbus  United States   \n",
       "42966           0  FIFA World Cup qualification   Cincinnati  United States   \n",
       "43103           0                      Friendly  Los Angeles  United States   \n",
       "\n",
       "       neutral result  \n",
       "41       False   lose  \n",
       "48       False    win  \n",
       "935      False    win  \n",
       "1022     False    win  \n",
       "1790     False   lose  \n",
       "...        ...    ...  \n",
       "42693    False   draw  \n",
       "42776    False    win  \n",
       "42908    False    win  \n",
       "42966    False    win  \n",
       "43103    False    win  \n",
       "\n",
       "[411 rows x 10 columns]"
      ]
     },
     "execution_count": 273,
     "metadata": {},
     "output_type": "execute_result"
    }
   ],
   "source": [
    "df_noneutralus"
   ]
  },
  {
   "cell_type": "code",
   "execution_count": 274,
   "id": "0aa8a63e",
   "metadata": {},
   "outputs": [
    {
     "data": {
      "text/plain": [
       "United States    411\n",
       "Name: home_team, dtype: int64"
      ]
     },
     "execution_count": 274,
     "metadata": {},
     "output_type": "execute_result"
    }
   ],
   "source": [
    "df_noneutralus['home_team'].value_counts()"
   ]
  },
  {
   "cell_type": "code",
   "execution_count": 275,
   "id": "e2ac4dcd",
   "metadata": {},
   "outputs": [
    {
     "data": {
      "text/plain": [
       "Mexico          40\n",
       "Costa Rica      28\n",
       "Canada          24\n",
       "Honduras        19\n",
       "Jamaica         19\n",
       "                ..\n",
       "North Korea      1\n",
       "Tunisia          1\n",
       "South Africa     1\n",
       "France           1\n",
       "Qatar            1\n",
       "Name: away_team, Length: 80, dtype: int64"
      ]
     },
     "execution_count": 275,
     "metadata": {},
     "output_type": "execute_result"
    }
   ],
   "source": [
    "df_noneutralus['away_team'].value_counts()"
   ]
  },
  {
   "cell_type": "code",
   "execution_count": 276,
   "id": "5d34efca",
   "metadata": {},
   "outputs": [
    {
     "data": {
      "text/plain": [
       "win     0.557178\n",
       "lose    0.221411\n",
       "draw    0.221411\n",
       "Name: result, dtype: float64"
      ]
     },
     "execution_count": 276,
     "metadata": {},
     "output_type": "execute_result"
    }
   ],
   "source": [
    "df_noneutralus['result'].value_counts(normalize=True)"
   ]
  },
  {
   "cell_type": "code",
   "execution_count": 277,
   "id": "096061fb",
   "metadata": {},
   "outputs": [
    {
     "data": {
      "text/plain": [
       "2.5164874373901926"
      ]
     },
     "execution_count": 277,
     "metadata": {},
     "output_type": "execute_result"
    }
   ],
   "source": [
    "0.557178/0.221411"
   ]
  },
  {
   "cell_type": "code",
   "execution_count": 278,
   "id": "266e06b8",
   "metadata": {},
   "outputs": [
    {
     "data": {
      "text/plain": [
       "Friendly                        217\n",
       "Gold Cup                         84\n",
       "FIFA World Cup qualification     75\n",
       "USA Cup                          19\n",
       "Copa América                      6\n",
       "FIFA World Cup                    4\n",
       "CONCACAF Nations League           4\n",
       "NAFU Championship                 2\n",
       "Name: tournament, dtype: int64"
      ]
     },
     "execution_count": 278,
     "metadata": {},
     "output_type": "execute_result"
    }
   ],
   "source": [
    "df_noneutralus['tournament'].value_counts()"
   ]
  },
  {
   "cell_type": "code",
   "execution_count": 279,
   "id": "822b9661",
   "metadata": {},
   "outputs": [],
   "source": [
    "df_noneutralus_nonf=df_noneutralus[df_noneutralus['tournament']!='Friendly']"
   ]
  },
  {
   "cell_type": "code",
   "execution_count": 280,
   "id": "d2a07dd4",
   "metadata": {},
   "outputs": [
    {
     "data": {
      "text/plain": [
       "win     0.716495\n",
       "draw    0.144330\n",
       "lose    0.139175\n",
       "Name: result, dtype: float64"
      ]
     },
     "execution_count": 280,
     "metadata": {},
     "output_type": "execute_result"
    }
   ],
   "source": [
    "df_noneutralus_nonf['result'].value_counts(normalize=True)"
   ]
  },
  {
   "cell_type": "code",
   "execution_count": 281,
   "id": "02e6ec56",
   "metadata": {},
   "outputs": [
    {
     "data": {
      "text/html": [
       "<div>\n",
       "<style scoped>\n",
       "    .dataframe tbody tr th:only-of-type {\n",
       "        vertical-align: middle;\n",
       "    }\n",
       "\n",
       "    .dataframe tbody tr th {\n",
       "        vertical-align: top;\n",
       "    }\n",
       "\n",
       "    .dataframe thead th {\n",
       "        text-align: right;\n",
       "    }\n",
       "</style>\n",
       "<table border=\"1\" class=\"dataframe\">\n",
       "  <thead>\n",
       "    <tr style=\"text-align: right;\">\n",
       "      <th></th>\n",
       "      <th>date</th>\n",
       "      <th>home_team</th>\n",
       "      <th>away_team</th>\n",
       "      <th>home_score</th>\n",
       "      <th>away_score</th>\n",
       "      <th>tournament</th>\n",
       "      <th>city</th>\n",
       "      <th>country</th>\n",
       "      <th>neutral</th>\n",
       "      <th>result</th>\n",
       "    </tr>\n",
       "  </thead>\n",
       "  <tbody>\n",
       "    <tr>\n",
       "      <th>166</th>\n",
       "      <td>2/12/1905</td>\n",
       "      <td>France</td>\n",
       "      <td>Switzerland</td>\n",
       "      <td>1</td>\n",
       "      <td>0</td>\n",
       "      <td>Friendly</td>\n",
       "      <td>Paris</td>\n",
       "      <td>France</td>\n",
       "      <td>False</td>\n",
       "      <td>win</td>\n",
       "    </tr>\n",
       "    <tr>\n",
       "      <th>185</th>\n",
       "      <td>4/22/1906</td>\n",
       "      <td>France</td>\n",
       "      <td>Belgium</td>\n",
       "      <td>0</td>\n",
       "      <td>5</td>\n",
       "      <td>Friendly</td>\n",
       "      <td>Saint-Cloud</td>\n",
       "      <td>France</td>\n",
       "      <td>False</td>\n",
       "      <td>lose</td>\n",
       "    </tr>\n",
       "    <tr>\n",
       "      <th>215</th>\n",
       "      <td>4/12/1908</td>\n",
       "      <td>France</td>\n",
       "      <td>Belgium</td>\n",
       "      <td>1</td>\n",
       "      <td>2</td>\n",
       "      <td>Friendly</td>\n",
       "      <td>Colombes</td>\n",
       "      <td>France</td>\n",
       "      <td>False</td>\n",
       "      <td>lose</td>\n",
       "    </tr>\n",
       "    <tr>\n",
       "      <th>257</th>\n",
       "      <td>4/3/1910</td>\n",
       "      <td>France</td>\n",
       "      <td>Belgium</td>\n",
       "      <td>0</td>\n",
       "      <td>4</td>\n",
       "      <td>Friendly</td>\n",
       "      <td>Gentilly</td>\n",
       "      <td>France</td>\n",
       "      <td>False</td>\n",
       "      <td>lose</td>\n",
       "    </tr>\n",
       "    <tr>\n",
       "      <th>277</th>\n",
       "      <td>1/1/1911</td>\n",
       "      <td>France</td>\n",
       "      <td>Hungary</td>\n",
       "      <td>0</td>\n",
       "      <td>3</td>\n",
       "      <td>Friendly</td>\n",
       "      <td>Maisons-Alfort</td>\n",
       "      <td>France</td>\n",
       "      <td>False</td>\n",
       "      <td>lose</td>\n",
       "    </tr>\n",
       "    <tr>\n",
       "      <th>...</th>\n",
       "      <td>...</td>\n",
       "      <td>...</td>\n",
       "      <td>...</td>\n",
       "      <td>...</td>\n",
       "      <td>...</td>\n",
       "      <td>...</td>\n",
       "      <td>...</td>\n",
       "      <td>...</td>\n",
       "      <td>...</td>\n",
       "      <td>...</td>\n",
       "    </tr>\n",
       "    <tr>\n",
       "      <th>42244</th>\n",
       "      <td>6/2/2021</td>\n",
       "      <td>France</td>\n",
       "      <td>Wales</td>\n",
       "      <td>3</td>\n",
       "      <td>0</td>\n",
       "      <td>Friendly</td>\n",
       "      <td>Nice</td>\n",
       "      <td>France</td>\n",
       "      <td>False</td>\n",
       "      <td>win</td>\n",
       "    </tr>\n",
       "    <tr>\n",
       "      <th>42346</th>\n",
       "      <td>6/8/2021</td>\n",
       "      <td>France</td>\n",
       "      <td>Bulgaria</td>\n",
       "      <td>3</td>\n",
       "      <td>0</td>\n",
       "      <td>Friendly</td>\n",
       "      <td>Paris</td>\n",
       "      <td>France</td>\n",
       "      <td>False</td>\n",
       "      <td>win</td>\n",
       "    </tr>\n",
       "    <tr>\n",
       "      <th>42597</th>\n",
       "      <td>9/1/2021</td>\n",
       "      <td>France</td>\n",
       "      <td>Bosnia and Herzegovina</td>\n",
       "      <td>1</td>\n",
       "      <td>1</td>\n",
       "      <td>FIFA World Cup qualification</td>\n",
       "      <td>Strasbourg</td>\n",
       "      <td>France</td>\n",
       "      <td>False</td>\n",
       "      <td>draw</td>\n",
       "    </tr>\n",
       "    <tr>\n",
       "      <th>42723</th>\n",
       "      <td>9/7/2021</td>\n",
       "      <td>France</td>\n",
       "      <td>Finland</td>\n",
       "      <td>2</td>\n",
       "      <td>0</td>\n",
       "      <td>FIFA World Cup qualification</td>\n",
       "      <td>Lyon</td>\n",
       "      <td>France</td>\n",
       "      <td>False</td>\n",
       "      <td>win</td>\n",
       "    </tr>\n",
       "    <tr>\n",
       "      <th>42988</th>\n",
       "      <td>11/13/2021</td>\n",
       "      <td>France</td>\n",
       "      <td>Kazakhstan</td>\n",
       "      <td>8</td>\n",
       "      <td>0</td>\n",
       "      <td>FIFA World Cup qualification</td>\n",
       "      <td>Paris</td>\n",
       "      <td>France</td>\n",
       "      <td>False</td>\n",
       "      <td>win</td>\n",
       "    </tr>\n",
       "  </tbody>\n",
       "</table>\n",
       "<p>818 rows × 10 columns</p>\n",
       "</div>"
      ],
      "text/plain": [
       "             date home_team               away_team  home_score  away_score  \\\n",
       "166     2/12/1905    France             Switzerland           1           0   \n",
       "185     4/22/1906    France                 Belgium           0           5   \n",
       "215     4/12/1908    France                 Belgium           1           2   \n",
       "257      4/3/1910    France                 Belgium           0           4   \n",
       "277      1/1/1911    France                 Hungary           0           3   \n",
       "...           ...       ...                     ...         ...         ...   \n",
       "42244    6/2/2021    France                   Wales           3           0   \n",
       "42346    6/8/2021    France                Bulgaria           3           0   \n",
       "42597    9/1/2021    France  Bosnia and Herzegovina           1           1   \n",
       "42723    9/7/2021    France                 Finland           2           0   \n",
       "42988  11/13/2021    France              Kazakhstan           8           0   \n",
       "\n",
       "                         tournament            city country  neutral result  \n",
       "166                        Friendly           Paris  France    False    win  \n",
       "185                        Friendly     Saint-Cloud  France    False   lose  \n",
       "215                        Friendly        Colombes  France    False   lose  \n",
       "257                        Friendly        Gentilly  France    False   lose  \n",
       "277                        Friendly  Maisons-Alfort  France    False   lose  \n",
       "...                             ...             ...     ...      ...    ...  \n",
       "42244                      Friendly            Nice  France    False    win  \n",
       "42346                      Friendly           Paris  France    False    win  \n",
       "42597  FIFA World Cup qualification      Strasbourg  France    False   draw  \n",
       "42723  FIFA World Cup qualification            Lyon  France    False    win  \n",
       "42988  FIFA World Cup qualification           Paris  France    False    win  \n",
       "\n",
       "[818 rows x 10 columns]"
      ]
     },
     "execution_count": 281,
     "metadata": {},
     "output_type": "execute_result"
    }
   ],
   "source": [
    "df[df['country']=='France']"
   ]
  },
  {
   "cell_type": "code",
   "execution_count": 282,
   "id": "6529737e",
   "metadata": {},
   "outputs": [
    {
     "data": {
      "text/html": [
       "<div>\n",
       "<style scoped>\n",
       "    .dataframe tbody tr th:only-of-type {\n",
       "        vertical-align: middle;\n",
       "    }\n",
       "\n",
       "    .dataframe tbody tr th {\n",
       "        vertical-align: top;\n",
       "    }\n",
       "\n",
       "    .dataframe thead th {\n",
       "        text-align: right;\n",
       "    }\n",
       "</style>\n",
       "<table border=\"1\" class=\"dataframe\">\n",
       "  <thead>\n",
       "    <tr style=\"text-align: right;\">\n",
       "      <th></th>\n",
       "      <th>date</th>\n",
       "      <th>home_team</th>\n",
       "      <th>away_team</th>\n",
       "      <th>home_score</th>\n",
       "      <th>away_score</th>\n",
       "      <th>tournament</th>\n",
       "      <th>city</th>\n",
       "      <th>country</th>\n",
       "      <th>neutral</th>\n",
       "      <th>result</th>\n",
       "    </tr>\n",
       "  </thead>\n",
       "  <tbody>\n",
       "    <tr>\n",
       "      <th>166</th>\n",
       "      <td>2/12/1905</td>\n",
       "      <td>France</td>\n",
       "      <td>Switzerland</td>\n",
       "      <td>1</td>\n",
       "      <td>0</td>\n",
       "      <td>Friendly</td>\n",
       "      <td>Paris</td>\n",
       "      <td>France</td>\n",
       "      <td>False</td>\n",
       "      <td>win</td>\n",
       "    </tr>\n",
       "    <tr>\n",
       "      <th>185</th>\n",
       "      <td>4/22/1906</td>\n",
       "      <td>France</td>\n",
       "      <td>Belgium</td>\n",
       "      <td>0</td>\n",
       "      <td>5</td>\n",
       "      <td>Friendly</td>\n",
       "      <td>Saint-Cloud</td>\n",
       "      <td>France</td>\n",
       "      <td>False</td>\n",
       "      <td>lose</td>\n",
       "    </tr>\n",
       "    <tr>\n",
       "      <th>215</th>\n",
       "      <td>4/12/1908</td>\n",
       "      <td>France</td>\n",
       "      <td>Belgium</td>\n",
       "      <td>1</td>\n",
       "      <td>2</td>\n",
       "      <td>Friendly</td>\n",
       "      <td>Colombes</td>\n",
       "      <td>France</td>\n",
       "      <td>False</td>\n",
       "      <td>lose</td>\n",
       "    </tr>\n",
       "    <tr>\n",
       "      <th>257</th>\n",
       "      <td>4/3/1910</td>\n",
       "      <td>France</td>\n",
       "      <td>Belgium</td>\n",
       "      <td>0</td>\n",
       "      <td>4</td>\n",
       "      <td>Friendly</td>\n",
       "      <td>Gentilly</td>\n",
       "      <td>France</td>\n",
       "      <td>False</td>\n",
       "      <td>lose</td>\n",
       "    </tr>\n",
       "    <tr>\n",
       "      <th>277</th>\n",
       "      <td>1/1/1911</td>\n",
       "      <td>France</td>\n",
       "      <td>Hungary</td>\n",
       "      <td>0</td>\n",
       "      <td>3</td>\n",
       "      <td>Friendly</td>\n",
       "      <td>Maisons-Alfort</td>\n",
       "      <td>France</td>\n",
       "      <td>False</td>\n",
       "      <td>lose</td>\n",
       "    </tr>\n",
       "    <tr>\n",
       "      <th>...</th>\n",
       "      <td>...</td>\n",
       "      <td>...</td>\n",
       "      <td>...</td>\n",
       "      <td>...</td>\n",
       "      <td>...</td>\n",
       "      <td>...</td>\n",
       "      <td>...</td>\n",
       "      <td>...</td>\n",
       "      <td>...</td>\n",
       "      <td>...</td>\n",
       "    </tr>\n",
       "    <tr>\n",
       "      <th>42346</th>\n",
       "      <td>6/8/2021</td>\n",
       "      <td>France</td>\n",
       "      <td>Bulgaria</td>\n",
       "      <td>3</td>\n",
       "      <td>0</td>\n",
       "      <td>Friendly</td>\n",
       "      <td>Paris</td>\n",
       "      <td>France</td>\n",
       "      <td>False</td>\n",
       "      <td>win</td>\n",
       "    </tr>\n",
       "    <tr>\n",
       "      <th>42491</th>\n",
       "      <td>6/28/2021</td>\n",
       "      <td>France</td>\n",
       "      <td>Switzerland</td>\n",
       "      <td>3</td>\n",
       "      <td>3</td>\n",
       "      <td>UEFA Euro</td>\n",
       "      <td>Bucharest</td>\n",
       "      <td>Romania</td>\n",
       "      <td>True</td>\n",
       "      <td>draw</td>\n",
       "    </tr>\n",
       "    <tr>\n",
       "      <th>42597</th>\n",
       "      <td>9/1/2021</td>\n",
       "      <td>France</td>\n",
       "      <td>Bosnia and Herzegovina</td>\n",
       "      <td>1</td>\n",
       "      <td>1</td>\n",
       "      <td>FIFA World Cup qualification</td>\n",
       "      <td>Strasbourg</td>\n",
       "      <td>France</td>\n",
       "      <td>False</td>\n",
       "      <td>draw</td>\n",
       "    </tr>\n",
       "    <tr>\n",
       "      <th>42723</th>\n",
       "      <td>9/7/2021</td>\n",
       "      <td>France</td>\n",
       "      <td>Finland</td>\n",
       "      <td>2</td>\n",
       "      <td>0</td>\n",
       "      <td>FIFA World Cup qualification</td>\n",
       "      <td>Lyon</td>\n",
       "      <td>France</td>\n",
       "      <td>False</td>\n",
       "      <td>win</td>\n",
       "    </tr>\n",
       "    <tr>\n",
       "      <th>42988</th>\n",
       "      <td>11/13/2021</td>\n",
       "      <td>France</td>\n",
       "      <td>Kazakhstan</td>\n",
       "      <td>8</td>\n",
       "      <td>0</td>\n",
       "      <td>FIFA World Cup qualification</td>\n",
       "      <td>Paris</td>\n",
       "      <td>France</td>\n",
       "      <td>False</td>\n",
       "      <td>win</td>\n",
       "    </tr>\n",
       "  </tbody>\n",
       "</table>\n",
       "<p>496 rows × 10 columns</p>\n",
       "</div>"
      ],
      "text/plain": [
       "             date home_team               away_team  home_score  away_score  \\\n",
       "166     2/12/1905    France             Switzerland           1           0   \n",
       "185     4/22/1906    France                 Belgium           0           5   \n",
       "215     4/12/1908    France                 Belgium           1           2   \n",
       "257      4/3/1910    France                 Belgium           0           4   \n",
       "277      1/1/1911    France                 Hungary           0           3   \n",
       "...           ...       ...                     ...         ...         ...   \n",
       "42346    6/8/2021    France                Bulgaria           3           0   \n",
       "42491   6/28/2021    France             Switzerland           3           3   \n",
       "42597    9/1/2021    France  Bosnia and Herzegovina           1           1   \n",
       "42723    9/7/2021    France                 Finland           2           0   \n",
       "42988  11/13/2021    France              Kazakhstan           8           0   \n",
       "\n",
       "                         tournament            city  country  neutral result  \n",
       "166                        Friendly           Paris   France    False    win  \n",
       "185                        Friendly     Saint-Cloud   France    False   lose  \n",
       "215                        Friendly        Colombes   France    False   lose  \n",
       "257                        Friendly        Gentilly   France    False   lose  \n",
       "277                        Friendly  Maisons-Alfort   France    False   lose  \n",
       "...                             ...             ...      ...      ...    ...  \n",
       "42346                      Friendly           Paris   France    False    win  \n",
       "42491                     UEFA Euro       Bucharest  Romania     True   draw  \n",
       "42597  FIFA World Cup qualification      Strasbourg   France    False   draw  \n",
       "42723  FIFA World Cup qualification            Lyon   France    False    win  \n",
       "42988  FIFA World Cup qualification           Paris   France    False    win  \n",
       "\n",
       "[496 rows x 10 columns]"
      ]
     },
     "execution_count": 282,
     "metadata": {},
     "output_type": "execute_result"
    }
   ],
   "source": [
    "df[df['home_team']=='France']"
   ]
  },
  {
   "cell_type": "code",
   "execution_count": 283,
   "id": "455cf30d",
   "metadata": {},
   "outputs": [],
   "source": [
    "df_noneutral=df[df['neutral']==False]"
   ]
  },
  {
   "cell_type": "code",
   "execution_count": 284,
   "id": "3d36b174",
   "metadata": {},
   "outputs": [
    {
     "data": {
      "text/plain": [
       "win     0.505003\n",
       "lose    0.263693\n",
       "draw    0.231304\n",
       "Name: result, dtype: float64"
      ]
     },
     "execution_count": 284,
     "metadata": {},
     "output_type": "execute_result"
    }
   ],
   "source": [
    "df_noneutral['result'].value_counts(normalize=True)"
   ]
  },
  {
   "cell_type": "code",
   "execution_count": 285,
   "id": "d5dad378",
   "metadata": {},
   "outputs": [
    {
     "data": {
      "text/plain": [
       "(32481, 10)"
      ]
     },
     "execution_count": 285,
     "metadata": {},
     "output_type": "execute_result"
    }
   ],
   "source": [
    "df_noneutral.shape"
   ]
  },
  {
   "cell_type": "code",
   "execution_count": 286,
   "id": "37516e6f",
   "metadata": {},
   "outputs": [],
   "source": [
    "df_noneutralfra=df_noneutral[df_noneutral['home_team']=='Brazil']"
   ]
  },
  {
   "cell_type": "code",
   "execution_count": 287,
   "id": "d6243a83",
   "metadata": {},
   "outputs": [
    {
     "data": {
      "text/html": [
       "<div>\n",
       "<style scoped>\n",
       "    .dataframe tbody tr th:only-of-type {\n",
       "        vertical-align: middle;\n",
       "    }\n",
       "\n",
       "    .dataframe tbody tr th {\n",
       "        vertical-align: top;\n",
       "    }\n",
       "\n",
       "    .dataframe thead th {\n",
       "        text-align: right;\n",
       "    }\n",
       "</style>\n",
       "<table border=\"1\" class=\"dataframe\">\n",
       "  <thead>\n",
       "    <tr style=\"text-align: right;\">\n",
       "      <th></th>\n",
       "      <th>date</th>\n",
       "      <th>home_team</th>\n",
       "      <th>away_team</th>\n",
       "      <th>home_score</th>\n",
       "      <th>away_score</th>\n",
       "      <th>tournament</th>\n",
       "      <th>city</th>\n",
       "      <th>country</th>\n",
       "      <th>neutral</th>\n",
       "      <th>result</th>\n",
       "    </tr>\n",
       "  </thead>\n",
       "  <tbody>\n",
       "    <tr>\n",
       "      <th>503</th>\n",
       "      <td>5/11/1919</td>\n",
       "      <td>Brazil</td>\n",
       "      <td>Chile</td>\n",
       "      <td>6</td>\n",
       "      <td>0</td>\n",
       "      <td>Copa América</td>\n",
       "      <td>Rio de Janeiro</td>\n",
       "      <td>Brazil</td>\n",
       "      <td>False</td>\n",
       "      <td>win</td>\n",
       "    </tr>\n",
       "    <tr>\n",
       "      <th>508</th>\n",
       "      <td>5/18/1919</td>\n",
       "      <td>Brazil</td>\n",
       "      <td>Argentina</td>\n",
       "      <td>3</td>\n",
       "      <td>1</td>\n",
       "      <td>Copa América</td>\n",
       "      <td>Rio de Janeiro</td>\n",
       "      <td>Brazil</td>\n",
       "      <td>False</td>\n",
       "      <td>win</td>\n",
       "    </tr>\n",
       "    <tr>\n",
       "      <th>512</th>\n",
       "      <td>5/26/1919</td>\n",
       "      <td>Brazil</td>\n",
       "      <td>Uruguay</td>\n",
       "      <td>2</td>\n",
       "      <td>2</td>\n",
       "      <td>Copa América</td>\n",
       "      <td>Rio de Janeiro</td>\n",
       "      <td>Brazil</td>\n",
       "      <td>False</td>\n",
       "      <td>draw</td>\n",
       "    </tr>\n",
       "    <tr>\n",
       "      <th>513</th>\n",
       "      <td>5/29/1919</td>\n",
       "      <td>Brazil</td>\n",
       "      <td>Uruguay</td>\n",
       "      <td>1</td>\n",
       "      <td>0</td>\n",
       "      <td>Copa América</td>\n",
       "      <td>Rio de Janeiro</td>\n",
       "      <td>Brazil</td>\n",
       "      <td>False</td>\n",
       "      <td>win</td>\n",
       "    </tr>\n",
       "    <tr>\n",
       "      <th>515</th>\n",
       "      <td>6/1/1919</td>\n",
       "      <td>Brazil</td>\n",
       "      <td>Argentina</td>\n",
       "      <td>3</td>\n",
       "      <td>3</td>\n",
       "      <td>Friendly</td>\n",
       "      <td>Rio de Janeiro</td>\n",
       "      <td>Brazil</td>\n",
       "      <td>False</td>\n",
       "      <td>draw</td>\n",
       "    </tr>\n",
       "    <tr>\n",
       "      <th>...</th>\n",
       "      <td>...</td>\n",
       "      <td>...</td>\n",
       "      <td>...</td>\n",
       "      <td>...</td>\n",
       "      <td>...</td>\n",
       "      <td>...</td>\n",
       "      <td>...</td>\n",
       "      <td>...</td>\n",
       "      <td>...</td>\n",
       "      <td>...</td>\n",
       "    </tr>\n",
       "    <tr>\n",
       "      <th>42513</th>\n",
       "      <td>7/5/2021</td>\n",
       "      <td>Brazil</td>\n",
       "      <td>Peru</td>\n",
       "      <td>1</td>\n",
       "      <td>0</td>\n",
       "      <td>Copa América</td>\n",
       "      <td>Rio de Janeiro</td>\n",
       "      <td>Brazil</td>\n",
       "      <td>False</td>\n",
       "      <td>win</td>\n",
       "    </tr>\n",
       "    <tr>\n",
       "      <th>42529</th>\n",
       "      <td>7/10/2021</td>\n",
       "      <td>Brazil</td>\n",
       "      <td>Argentina</td>\n",
       "      <td>0</td>\n",
       "      <td>1</td>\n",
       "      <td>Copa América</td>\n",
       "      <td>Rio de Janeiro</td>\n",
       "      <td>Brazil</td>\n",
       "      <td>False</td>\n",
       "      <td>lose</td>\n",
       "    </tr>\n",
       "    <tr>\n",
       "      <th>42756</th>\n",
       "      <td>9/9/2021</td>\n",
       "      <td>Brazil</td>\n",
       "      <td>Peru</td>\n",
       "      <td>2</td>\n",
       "      <td>0</td>\n",
       "      <td>FIFA World Cup qualification</td>\n",
       "      <td>Recife</td>\n",
       "      <td>Brazil</td>\n",
       "      <td>False</td>\n",
       "      <td>win</td>\n",
       "    </tr>\n",
       "    <tr>\n",
       "      <th>42916</th>\n",
       "      <td>10/14/2021</td>\n",
       "      <td>Brazil</td>\n",
       "      <td>Uruguay</td>\n",
       "      <td>4</td>\n",
       "      <td>1</td>\n",
       "      <td>FIFA World Cup qualification</td>\n",
       "      <td>Manaus</td>\n",
       "      <td>Brazil</td>\n",
       "      <td>False</td>\n",
       "      <td>win</td>\n",
       "    </tr>\n",
       "    <tr>\n",
       "      <th>42956</th>\n",
       "      <td>11/11/2021</td>\n",
       "      <td>Brazil</td>\n",
       "      <td>Colombia</td>\n",
       "      <td>1</td>\n",
       "      <td>0</td>\n",
       "      <td>FIFA World Cup qualification</td>\n",
       "      <td>São Paulo</td>\n",
       "      <td>Brazil</td>\n",
       "      <td>False</td>\n",
       "      <td>win</td>\n",
       "    </tr>\n",
       "  </tbody>\n",
       "</table>\n",
       "<p>353 rows × 10 columns</p>\n",
       "</div>"
      ],
      "text/plain": [
       "             date home_team  away_team  home_score  away_score  \\\n",
       "503     5/11/1919    Brazil      Chile           6           0   \n",
       "508     5/18/1919    Brazil  Argentina           3           1   \n",
       "512     5/26/1919    Brazil    Uruguay           2           2   \n",
       "513     5/29/1919    Brazil    Uruguay           1           0   \n",
       "515      6/1/1919    Brazil  Argentina           3           3   \n",
       "...           ...       ...        ...         ...         ...   \n",
       "42513    7/5/2021    Brazil       Peru           1           0   \n",
       "42529   7/10/2021    Brazil  Argentina           0           1   \n",
       "42756    9/9/2021    Brazil       Peru           2           0   \n",
       "42916  10/14/2021    Brazil    Uruguay           4           1   \n",
       "42956  11/11/2021    Brazil   Colombia           1           0   \n",
       "\n",
       "                         tournament            city country  neutral result  \n",
       "503                    Copa América  Rio de Janeiro  Brazil    False    win  \n",
       "508                    Copa América  Rio de Janeiro  Brazil    False    win  \n",
       "512                    Copa América  Rio de Janeiro  Brazil    False   draw  \n",
       "513                    Copa América  Rio de Janeiro  Brazil    False    win  \n",
       "515                        Friendly  Rio de Janeiro  Brazil    False   draw  \n",
       "...                             ...             ...     ...      ...    ...  \n",
       "42513                  Copa América  Rio de Janeiro  Brazil    False    win  \n",
       "42529                  Copa América  Rio de Janeiro  Brazil    False   lose  \n",
       "42756  FIFA World Cup qualification          Recife  Brazil    False    win  \n",
       "42916  FIFA World Cup qualification          Manaus  Brazil    False    win  \n",
       "42956  FIFA World Cup qualification       São Paulo  Brazil    False    win  \n",
       "\n",
       "[353 rows x 10 columns]"
      ]
     },
     "execution_count": 287,
     "metadata": {},
     "output_type": "execute_result"
    }
   ],
   "source": [
    "df_noneutralfra"
   ]
  },
  {
   "cell_type": "code",
   "execution_count": 288,
   "id": "c67b7dc1",
   "metadata": {},
   "outputs": [
    {
     "data": {
      "text/plain": [
       "Brazil    353\n",
       "Name: home_team, dtype: int64"
      ]
     },
     "execution_count": 288,
     "metadata": {},
     "output_type": "execute_result"
    }
   ],
   "source": [
    "df_noneutralfra['home_team'].value_counts()"
   ]
  },
  {
   "cell_type": "code",
   "execution_count": 289,
   "id": "186c7105",
   "metadata": {},
   "outputs": [
    {
     "data": {
      "text/plain": [
       "Argentina                 41\n",
       "Paraguay                  38\n",
       "Uruguay                   33\n",
       "Chile                     29\n",
       "Peru                      21\n",
       "Colombia                  14\n",
       "Venezuela                 13\n",
       "Bolivia                   13\n",
       "Ecuador                   12\n",
       "Portugal                  10\n",
       "Czechoslovakia            10\n",
       "Mexico                    10\n",
       "Yugoslavia                10\n",
       "Bulgaria                   7\n",
       "Germany                    7\n",
       "England                    6\n",
       "Poland                     6\n",
       "Wales                      5\n",
       "Serbia                     4\n",
       "Russia                     4\n",
       "Netherlands                4\n",
       "German DR                  3\n",
       "Honduras                   3\n",
       "Austria                    3\n",
       "France                     3\n",
       "Spain                      3\n",
       "Switzerland                3\n",
       "Japan                      2\n",
       "Cameroon                   2\n",
       "Panama                     2\n",
       "United States              2\n",
       "Iceland                    2\n",
       "Finland                    2\n",
       "Republic of Ireland        2\n",
       "Romania                    2\n",
       "Scotland                   2\n",
       "Italy                      2\n",
       "China PR                   1\n",
       "Morocco                    1\n",
       "South Africa               1\n",
       "Australia                  1\n",
       "Croatia                    1\n",
       "Guatemala                  1\n",
       "Latvia                     1\n",
       "Hungary                    1\n",
       "Slovakia                   1\n",
       "Bosnia and Herzegovina     1\n",
       "Lithuania                  1\n",
       "Ghana                      1\n",
       "Belgium                    1\n",
       "Costa Rica                 1\n",
       "Sweden                     1\n",
       "Greece                     1\n",
       "Haiti                      1\n",
       "Qatar                      1\n",
       "Name: away_team, dtype: int64"
      ]
     },
     "execution_count": 289,
     "metadata": {},
     "output_type": "execute_result"
    }
   ],
   "source": [
    "df_noneutralfra['away_team'].value_counts()"
   ]
  },
  {
   "cell_type": "code",
   "execution_count": 290,
   "id": "b860dfe9",
   "metadata": {},
   "outputs": [
    {
     "data": {
      "text/plain": [
       "win     0.733711\n",
       "draw    0.201133\n",
       "lose    0.065156\n",
       "Name: result, dtype: float64"
      ]
     },
     "execution_count": 290,
     "metadata": {},
     "output_type": "execute_result"
    }
   ],
   "source": [
    "df_noneutralfra['result'].value_counts(normalize=True)"
   ]
  },
  {
   "cell_type": "code",
   "execution_count": 291,
   "id": "a7d0b942",
   "metadata": {},
   "outputs": [
    {
     "data": {
      "text/plain": [
       "11.2608355331819"
      ]
     },
     "execution_count": 291,
     "metadata": {},
     "output_type": "execute_result"
    }
   ],
   "source": [
    "0.733711/0.065156"
   ]
  },
  {
   "cell_type": "code",
   "execution_count": 292,
   "id": "f19320ff",
   "metadata": {},
   "outputs": [
    {
     "data": {
      "text/plain": [
       "Friendly                        187\n",
       "FIFA World Cup qualification     60\n",
       "Copa América                     47\n",
       "Copa Roca                        13\n",
       "FIFA World Cup                   13\n",
       "Copa Rio Branco                   9\n",
       "Copa Oswaldo Cruz                 9\n",
       "Confederations Cup                5\n",
       "Copa Bernardo O'Higgins           4\n",
       "Brazil Independence Cup           4\n",
       "Atlantic Cup                      2\n",
       "Name: tournament, dtype: int64"
      ]
     },
     "execution_count": 292,
     "metadata": {},
     "output_type": "execute_result"
    }
   ],
   "source": [
    "df_noneutralfra['tournament'].value_counts()"
   ]
  },
  {
   "cell_type": "code",
   "execution_count": 293,
   "id": "6c75405e",
   "metadata": {},
   "outputs": [],
   "source": [
    "df_noneutralfra_nonf=df_noneutralfra[df_noneutralfra['tournament']!='Friendly']"
   ]
  },
  {
   "cell_type": "code",
   "execution_count": 294,
   "id": "6080eb54",
   "metadata": {},
   "outputs": [
    {
     "data": {
      "text/plain": [
       "win     0.710843\n",
       "draw    0.210843\n",
       "lose    0.078313\n",
       "Name: result, dtype: float64"
      ]
     },
     "execution_count": 294,
     "metadata": {},
     "output_type": "execute_result"
    }
   ],
   "source": [
    "df_noneutralfra_nonf['result'].value_counts(normalize=True)"
   ]
  },
  {
   "cell_type": "code",
   "execution_count": 295,
   "id": "261eaf5f",
   "metadata": {},
   "outputs": [
    {
     "data": {
      "text/plain": [
       "9.07694763321543"
      ]
     },
     "execution_count": 295,
     "metadata": {},
     "output_type": "execute_result"
    }
   ],
   "source": [
    "0.710843/0.078313"
   ]
  },
  {
   "cell_type": "code",
   "execution_count": 296,
   "id": "a0fa9f25",
   "metadata": {},
   "outputs": [],
   "source": [
    "import statsmodels.api as sm\n",
    "from statsmodels.stats.proportion import proportion_confint"
   ]
  },
  {
   "cell_type": "code",
   "execution_count": 297,
   "id": "176b70e4",
   "metadata": {},
   "outputs": [
    {
     "data": {
      "text/plain": [
       "win     229\n",
       "lose     91\n",
       "draw     91\n",
       "Name: result, dtype: int64"
      ]
     },
     "execution_count": 297,
     "metadata": {},
     "output_type": "execute_result"
    }
   ],
   "source": [
    "df_noneutralus['result'].value_counts()"
   ]
  },
  {
   "cell_type": "code",
   "execution_count": 298,
   "id": "97ef9c23",
   "metadata": {},
   "outputs": [],
   "source": [
    "x=df_noneutralus['result'].value_counts()"
   ]
  },
  {
   "cell_type": "code",
   "execution_count": 299,
   "id": "6b546cd2",
   "metadata": {},
   "outputs": [
    {
     "data": {
      "text/plain": [
       "229"
      ]
     },
     "execution_count": 299,
     "metadata": {},
     "output_type": "execute_result"
    }
   ],
   "source": [
    "x[0]"
   ]
  },
  {
   "cell_type": "code",
   "execution_count": 300,
   "id": "e07699ea",
   "metadata": {},
   "outputs": [],
   "source": [
    "ci_win_us=proportion_confint(count=x[0],nobs=x.sum(),alpha=(1-.95))"
   ]
  },
  {
   "cell_type": "code",
   "execution_count": 301,
   "id": "9c21ca3e",
   "metadata": {},
   "outputs": [
    {
     "data": {
      "text/plain": [
       "(0.5091557759095878, 0.6051994552339645)"
      ]
     },
     "execution_count": 301,
     "metadata": {},
     "output_type": "execute_result"
    }
   ],
   "source": [
    "ci_win_us"
   ]
  },
  {
   "cell_type": "code",
   "execution_count": 305,
   "id": "047d5fea",
   "metadata": {},
   "outputs": [
    {
     "data": {
      "text/plain": [
       "win     268\n",
       "lose     99\n",
       "draw     95\n",
       "Name: result, dtype: int64"
      ]
     },
     "execution_count": 305,
     "metadata": {},
     "output_type": "execute_result"
    }
   ],
   "source": [
    "df_noneutralfra['result'].value_counts()"
   ]
  },
  {
   "cell_type": "code",
   "execution_count": 306,
   "id": "fe4f1ee7",
   "metadata": {},
   "outputs": [],
   "source": [
    "x=df_noneutralfra['result'].value_counts()"
   ]
  },
  {
   "cell_type": "code",
   "execution_count": 307,
   "id": "27dc30f8",
   "metadata": {},
   "outputs": [
    {
     "data": {
      "text/plain": [
       "268"
      ]
     },
     "execution_count": 307,
     "metadata": {},
     "output_type": "execute_result"
    }
   ],
   "source": [
    "x[0]"
   ]
  },
  {
   "cell_type": "code",
   "execution_count": 308,
   "id": "f0cc9604",
   "metadata": {},
   "outputs": [],
   "source": [
    "ci_win_fra=proportion_confint(count=x[0],nobs=x.sum(),alpha=(1-.95))"
   ]
  },
  {
   "cell_type": "code",
   "execution_count": 309,
   "id": "aef6be05",
   "metadata": {},
   "outputs": [
    {
     "data": {
      "text/plain": [
       "(0.5350823444775694, 0.6250908156955908)"
      ]
     },
     "execution_count": 309,
     "metadata": {},
     "output_type": "execute_result"
    }
   ],
   "source": [
    "ci_win_fra"
   ]
  },
  {
   "cell_type": "code",
   "execution_count": 323,
   "id": "0e9920e4",
   "metadata": {},
   "outputs": [
    {
     "data": {
      "text/html": [
       "<div>\n",
       "<style scoped>\n",
       "    .dataframe tbody tr th:only-of-type {\n",
       "        vertical-align: middle;\n",
       "    }\n",
       "\n",
       "    .dataframe tbody tr th {\n",
       "        vertical-align: top;\n",
       "    }\n",
       "\n",
       "    .dataframe thead th {\n",
       "        text-align: right;\n",
       "    }\n",
       "</style>\n",
       "<table border=\"1\" class=\"dataframe\">\n",
       "  <thead>\n",
       "    <tr style=\"text-align: right;\">\n",
       "      <th></th>\n",
       "      <th>result</th>\n",
       "      <th>lb</th>\n",
       "      <th>ub</th>\n",
       "    </tr>\n",
       "  </thead>\n",
       "  <tbody>\n",
       "    <tr>\n",
       "      <th>0</th>\n",
       "      <td>win</td>\n",
       "      <td>0.509156</td>\n",
       "      <td>0.605199</td>\n",
       "    </tr>\n",
       "    <tr>\n",
       "      <th>1</th>\n",
       "      <td>lose</td>\n",
       "      <td>0.535082</td>\n",
       "      <td>0.625091</td>\n",
       "    </tr>\n",
       "  </tbody>\n",
       "</table>\n",
       "</div>"
      ],
      "text/plain": [
       "  result        lb        ub\n",
       "0    win  0.509156  0.605199\n",
       "1   lose  0.535082  0.625091"
      ]
     },
     "execution_count": 323,
     "metadata": {},
     "output_type": "execute_result"
    }
   ],
   "source": [
    "ci_usfrawin={}\n",
    "ci_usfrawin['result'] = ['win','lose']\n",
    "ci_usfrawin['lb'] = [ci_win_us[0],ci_win_fra[0]]\n",
    "ci_usfrawin['ub'] = [ci_win_us[1],ci_win_fra[1]]\n",
    "df_ci= pd.DataFrame(ci_usfrawin)\n",
    "df_ci"
   ]
  },
  {
   "cell_type": "code",
   "execution_count": 324,
   "id": "81468f8b",
   "metadata": {},
   "outputs": [
    {
     "data": {
      "text/plain": [
       "([<matplotlib.axis.YTick at 0x7fbef6141eb0>,\n",
       "  <matplotlib.axis.YTick at 0x7fbef6141700>],\n",
       " [Text(0, 0, 'win'), Text(0, 1, 'lose')])"
      ]
     },
     "execution_count": 324,
     "metadata": {},
     "output_type": "execute_result"
    },
    {
     "data": {
      "image/png": "[encoded data removed]",
      "text/plain": [
       "<Figure size 432x288 with 1 Axes>"
      ]
     },
     "metadata": {
      "needs_background": "light"
     },
     "output_type": "display_data"
    }
   ],
   "source": [
    "import matplotlib.pyplot as plt\n",
    "for lb,ub,y in zip(df_ci['lb'],df_ci['ub'],range(len(df_ci))):\n",
    "    plt.plot((lb,ub),(y,y),'ro-')\n",
    "plt.yticks(range(len(df_ci)),list(df_ci['result']))"
   ]
  },
  {
   "cell_type": "code",
   "execution_count": null,
   "id": "77cbc005",
   "metadata": {},
   "outputs": [],
   "source": [
    "I got the probability of winning of the most 2 repeated countries which were United States and France then got\n",
    "the confidence intervals for both and compared them with each other an tgis shows that they had more wins than \n",
    "losses in the matches they played, for both United States and France."
   ]
  },
  {
   "cell_type": "code",
   "execution_count": null,
   "id": "a72fdb4f",
   "metadata": {},
   "outputs": [],
   "source": [
    "PART II:"
   ]
  },
  {
   "cell_type": "code",
   "execution_count": 3,
   "id": "0f710171",
   "metadata": {},
   "outputs": [],
   "source": [
    "import pandas as pd"
   ]
  },
  {
   "cell_type": "code",
   "execution_count": 4,
   "id": "17999247",
   "metadata": {},
   "outputs": [],
   "source": [
    "df=pd.read_csv('covid_data.csv',encoding='latin-1')"
   ]
  },
  {
   "cell_type": "code",
   "execution_count": 5,
   "id": "93ba3144",
   "metadata": {},
   "outputs": [
    {
     "data": {
      "text/html": [
       "<div>\n",
       "<style scoped>\n",
       "    .dataframe tbody tr th:only-of-type {\n",
       "        vertical-align: middle;\n",
       "    }\n",
       "\n",
       "    .dataframe tbody tr th {\n",
       "        vertical-align: top;\n",
       "    }\n",
       "\n",
       "    .dataframe thead th {\n",
       "        text-align: right;\n",
       "    }\n",
       "</style>\n",
       "<table border=\"1\" class=\"dataframe\">\n",
       "  <thead>\n",
       "    <tr style=\"text-align: right;\">\n",
       "      <th></th>\n",
       "      <th>date</th>\n",
       "      <th>iso3c</th>\n",
       "      <th>country</th>\n",
       "      <th>income</th>\n",
       "      <th>region</th>\n",
       "      <th>continent</th>\n",
       "      <th>dcases</th>\n",
       "      <th>ddeaths</th>\n",
       "      <th>population</th>\n",
       "      <th>weekdays</th>\n",
       "      <th>month</th>\n",
       "    </tr>\n",
       "  </thead>\n",
       "  <tbody>\n",
       "    <tr>\n",
       "      <th>0</th>\n",
       "      <td>2020-02-24</td>\n",
       "      <td>AFG</td>\n",
       "      <td>Afghanistan</td>\n",
       "      <td>Low income</td>\n",
       "      <td>South Asia</td>\n",
       "      <td>Asia</td>\n",
       "      <td>5</td>\n",
       "      <td>0</td>\n",
       "      <td>38041754</td>\n",
       "      <td>Mon</td>\n",
       "      <td>Feb</td>\n",
       "    </tr>\n",
       "    <tr>\n",
       "      <th>1</th>\n",
       "      <td>2020-02-25</td>\n",
       "      <td>AFG</td>\n",
       "      <td>Afghanistan</td>\n",
       "      <td>Low income</td>\n",
       "      <td>South Asia</td>\n",
       "      <td>Asia</td>\n",
       "      <td>0</td>\n",
       "      <td>0</td>\n",
       "      <td>38041754</td>\n",
       "      <td>Tue</td>\n",
       "      <td>Feb</td>\n",
       "    </tr>\n",
       "    <tr>\n",
       "      <th>2</th>\n",
       "      <td>2020-02-26</td>\n",
       "      <td>AFG</td>\n",
       "      <td>Afghanistan</td>\n",
       "      <td>Low income</td>\n",
       "      <td>South Asia</td>\n",
       "      <td>Asia</td>\n",
       "      <td>0</td>\n",
       "      <td>0</td>\n",
       "      <td>38041754</td>\n",
       "      <td>Wed</td>\n",
       "      <td>Feb</td>\n",
       "    </tr>\n",
       "    <tr>\n",
       "      <th>3</th>\n",
       "      <td>2020-02-27</td>\n",
       "      <td>AFG</td>\n",
       "      <td>Afghanistan</td>\n",
       "      <td>Low income</td>\n",
       "      <td>South Asia</td>\n",
       "      <td>Asia</td>\n",
       "      <td>0</td>\n",
       "      <td>0</td>\n",
       "      <td>38041754</td>\n",
       "      <td>Thu</td>\n",
       "      <td>Feb</td>\n",
       "    </tr>\n",
       "    <tr>\n",
       "      <th>4</th>\n",
       "      <td>2020-02-28</td>\n",
       "      <td>AFG</td>\n",
       "      <td>Afghanistan</td>\n",
       "      <td>Low income</td>\n",
       "      <td>South Asia</td>\n",
       "      <td>Asia</td>\n",
       "      <td>0</td>\n",
       "      <td>0</td>\n",
       "      <td>38041754</td>\n",
       "      <td>Fri</td>\n",
       "      <td>Feb</td>\n",
       "    </tr>\n",
       "  </tbody>\n",
       "</table>\n",
       "</div>"
      ],
      "text/plain": [
       "         date iso3c      country      income      region continent  dcases  \\\n",
       "0  2020-02-24   AFG  Afghanistan  Low income  South Asia      Asia       5   \n",
       "1  2020-02-25   AFG  Afghanistan  Low income  South Asia      Asia       0   \n",
       "2  2020-02-26   AFG  Afghanistan  Low income  South Asia      Asia       0   \n",
       "3  2020-02-27   AFG  Afghanistan  Low income  South Asia      Asia       0   \n",
       "4  2020-02-28   AFG  Afghanistan  Low income  South Asia      Asia       0   \n",
       "\n",
       "   ddeaths  population weekdays month  \n",
       "0        0    38041754      Mon   Feb  \n",
       "1        0    38041754      Tue   Feb  \n",
       "2        0    38041754      Wed   Feb  \n",
       "3        0    38041754      Thu   Feb  \n",
       "4        0    38041754      Fri   Feb  "
      ]
     },
     "execution_count": 5,
     "metadata": {},
     "output_type": "execute_result"
    }
   ],
   "source": [
    "df.head()"
   ]
  },
  {
   "cell_type": "code",
   "execution_count": 21,
   "id": "9aec47bb",
   "metadata": {},
   "outputs": [],
   "source": [
    "df['totcases'] = df.groupby(['iso3c'])['dcases'].cumsum()"
   ]
  },
  {
   "cell_type": "code",
   "execution_count": 24,
   "id": "c1bae943",
   "metadata": {},
   "outputs": [
    {
     "data": {
      "text/html": [
       "<div>\n",
       "<style scoped>\n",
       "    .dataframe tbody tr th:only-of-type {\n",
       "        vertical-align: middle;\n",
       "    }\n",
       "\n",
       "    .dataframe tbody tr th {\n",
       "        vertical-align: top;\n",
       "    }\n",
       "\n",
       "    .dataframe thead th {\n",
       "        text-align: right;\n",
       "    }\n",
       "</style>\n",
       "<table border=\"1\" class=\"dataframe\">\n",
       "  <thead>\n",
       "    <tr style=\"text-align: right;\">\n",
       "      <th></th>\n",
       "      <th>date</th>\n",
       "      <th>iso3c</th>\n",
       "      <th>country</th>\n",
       "      <th>income</th>\n",
       "      <th>region</th>\n",
       "      <th>continent</th>\n",
       "      <th>dcases</th>\n",
       "      <th>ddeaths</th>\n",
       "      <th>population</th>\n",
       "      <th>weekdays</th>\n",
       "      <th>month</th>\n",
       "      <th>totcases</th>\n",
       "    </tr>\n",
       "  </thead>\n",
       "  <tbody>\n",
       "    <tr>\n",
       "      <th>34736</th>\n",
       "      <td>2020-02-01</td>\n",
       "      <td>ESP</td>\n",
       "      <td>Spain</td>\n",
       "      <td>High income</td>\n",
       "      <td>Europe &amp; Central Asia</td>\n",
       "      <td>Europe</td>\n",
       "      <td>1</td>\n",
       "      <td>0</td>\n",
       "      <td>47076781</td>\n",
       "      <td>Sat</td>\n",
       "      <td>Feb</td>\n",
       "      <td>1</td>\n",
       "    </tr>\n",
       "    <tr>\n",
       "      <th>34737</th>\n",
       "      <td>2020-02-02</td>\n",
       "      <td>ESP</td>\n",
       "      <td>Spain</td>\n",
       "      <td>High income</td>\n",
       "      <td>Europe &amp; Central Asia</td>\n",
       "      <td>Europe</td>\n",
       "      <td>0</td>\n",
       "      <td>0</td>\n",
       "      <td>47076781</td>\n",
       "      <td>Sun</td>\n",
       "      <td>Feb</td>\n",
       "      <td>1</td>\n",
       "    </tr>\n",
       "    <tr>\n",
       "      <th>34738</th>\n",
       "      <td>2020-02-03</td>\n",
       "      <td>ESP</td>\n",
       "      <td>Spain</td>\n",
       "      <td>High income</td>\n",
       "      <td>Europe &amp; Central Asia</td>\n",
       "      <td>Europe</td>\n",
       "      <td>0</td>\n",
       "      <td>0</td>\n",
       "      <td>47076781</td>\n",
       "      <td>Mon</td>\n",
       "      <td>Feb</td>\n",
       "      <td>1</td>\n",
       "    </tr>\n",
       "    <tr>\n",
       "      <th>34739</th>\n",
       "      <td>2020-02-04</td>\n",
       "      <td>ESP</td>\n",
       "      <td>Spain</td>\n",
       "      <td>High income</td>\n",
       "      <td>Europe &amp; Central Asia</td>\n",
       "      <td>Europe</td>\n",
       "      <td>0</td>\n",
       "      <td>0</td>\n",
       "      <td>47076781</td>\n",
       "      <td>Tue</td>\n",
       "      <td>Feb</td>\n",
       "      <td>1</td>\n",
       "    </tr>\n",
       "    <tr>\n",
       "      <th>34740</th>\n",
       "      <td>2020-02-05</td>\n",
       "      <td>ESP</td>\n",
       "      <td>Spain</td>\n",
       "      <td>High income</td>\n",
       "      <td>Europe &amp; Central Asia</td>\n",
       "      <td>Europe</td>\n",
       "      <td>0</td>\n",
       "      <td>0</td>\n",
       "      <td>47076781</td>\n",
       "      <td>Wed</td>\n",
       "      <td>Feb</td>\n",
       "      <td>1</td>\n",
       "    </tr>\n",
       "    <tr>\n",
       "      <th>34741</th>\n",
       "      <td>2020-02-06</td>\n",
       "      <td>ESP</td>\n",
       "      <td>Spain</td>\n",
       "      <td>High income</td>\n",
       "      <td>Europe &amp; Central Asia</td>\n",
       "      <td>Europe</td>\n",
       "      <td>0</td>\n",
       "      <td>0</td>\n",
       "      <td>47076781</td>\n",
       "      <td>Thu</td>\n",
       "      <td>Feb</td>\n",
       "      <td>1</td>\n",
       "    </tr>\n",
       "  </tbody>\n",
       "</table>\n",
       "</div>"
      ],
      "text/plain": [
       "             date iso3c country       income                 region continent  \\\n",
       "34736  2020-02-01   ESP   Spain  High income  Europe & Central Asia    Europe   \n",
       "34737  2020-02-02   ESP   Spain  High income  Europe & Central Asia    Europe   \n",
       "34738  2020-02-03   ESP   Spain  High income  Europe & Central Asia    Europe   \n",
       "34739  2020-02-04   ESP   Spain  High income  Europe & Central Asia    Europe   \n",
       "34740  2020-02-05   ESP   Spain  High income  Europe & Central Asia    Europe   \n",
       "34741  2020-02-06   ESP   Spain  High income  Europe & Central Asia    Europe   \n",
       "\n",
       "       dcases  ddeaths  population weekdays month  totcases  \n",
       "34736       1        0    47076781      Sat   Feb         1  \n",
       "34737       0        0    47076781      Sun   Feb         1  \n",
       "34738       0        0    47076781      Mon   Feb         1  \n",
       "34739       0        0    47076781      Tue   Feb         1  \n",
       "34740       0        0    47076781      Wed   Feb         1  \n",
       "34741       0        0    47076781      Thu   Feb         1  "
      ]
     },
     "execution_count": 24,
     "metadata": {},
     "output_type": "execute_result"
    }
   ],
   "source": [
    "df.loc[df['iso3c']=='ESP'].head(6)"
   ]
  },
  {
   "cell_type": "code",
   "execution_count": 25,
   "id": "aa446dd3",
   "metadata": {},
   "outputs": [],
   "source": [
    "df['totdeaths'] = df.groupby(['iso3c'])['ddeaths'].cumsum()"
   ]
  },
  {
   "cell_type": "code",
   "execution_count": 26,
   "id": "7fa0c365",
   "metadata": {},
   "outputs": [
    {
     "data": {
      "text/plain": [
       "34736        0\n",
       "34737        0\n",
       "34738        0\n",
       "34739        0\n",
       "34740        0\n",
       "         ...  \n",
       "35431    91059\n",
       "35432    91173\n",
       "35433    91251\n",
       "35434    91325\n",
       "35435    91325\n",
       "Name: totdeaths, Length: 700, dtype: int64"
      ]
     },
     "execution_count": 26,
     "metadata": {},
     "output_type": "execute_result"
    }
   ],
   "source": [
    "df['totdeaths'].loc[df['iso3c']=='ESP']"
   ]
  },
  {
   "cell_type": "code",
   "execution_count": 27,
   "id": "cfd164ab",
   "metadata": {},
   "outputs": [],
   "source": [
    "df['cfr']=df['totdeaths']/df['totcases']"
   ]
  },
  {
   "cell_type": "code",
   "execution_count": 28,
   "id": "972f6cb7",
   "metadata": {},
   "outputs": [],
   "source": [
    "import matplotlib.pyplot as plt"
   ]
  },
  {
   "cell_type": "code",
   "execution_count": 29,
   "id": "97f9b4dd",
   "metadata": {},
   "outputs": [],
   "source": [
    "df_esp=df.loc[df['iso3c']=='ESP']"
   ]
  },
  {
   "cell_type": "code",
   "execution_count": null,
   "id": "99f76a96",
   "metadata": {},
   "outputs": [],
   "source": [
    "#We now need to create a column to identify the year "
   ]
  },
  {
   "cell_type": "code",
   "execution_count": 30,
   "id": "b8d5fa81",
   "metadata": {},
   "outputs": [
    {
     "data": {
      "text/plain": [
       "'2020-02-24'"
      ]
     },
     "execution_count": 30,
     "metadata": {},
     "output_type": "execute_result"
    }
   ],
   "source": [
    "df['date'][0]"
   ]
  },
  {
   "cell_type": "code",
   "execution_count": 31,
   "id": "cac605c7",
   "metadata": {},
   "outputs": [],
   "source": [
    "df['date'] = pd.to_datetime(df['date'],format='%Y-%m-%d')"
   ]
  },
  {
   "cell_type": "code",
   "execution_count": 32,
   "id": "dbf07479",
   "metadata": {},
   "outputs": [
    {
     "data": {
      "text/plain": [
       "Timestamp('2020-02-24 00:00:00')"
      ]
     },
     "execution_count": 32,
     "metadata": {},
     "output_type": "execute_result"
    }
   ],
   "source": [
    "df['date'][0]"
   ]
  },
  {
   "cell_type": "code",
   "execution_count": 34,
   "id": "0862753c",
   "metadata": {},
   "outputs": [],
   "source": [
    "df['year'] = pd. DatetimeIndex(df['date']). year"
   ]
  },
  {
   "cell_type": "code",
   "execution_count": 35,
   "id": "379da29b",
   "metadata": {},
   "outputs": [
    {
     "data": {
      "text/plain": [
       "2020"
      ]
     },
     "execution_count": 35,
     "metadata": {},
     "output_type": "execute_result"
    }
   ],
   "source": [
    "df['year'][0]"
   ]
  },
  {
   "cell_type": "code",
   "execution_count": null,
   "id": "22196305",
   "metadata": {},
   "outputs": [],
   "source": [
    "#We will now compute for the year 2020"
   ]
  },
  {
   "cell_type": "code",
   "execution_count": 41,
   "id": "3d4c08f5",
   "metadata": {},
   "outputs": [
    {
     "name": "stderr",
     "output_type": "stream",
     "text": [
      "/var/folders/kb/rm0zdcw57wx2qdy38g1f7q180000gn/T/ipykernel_1588/1298479876.py:1: SettingWithCopyWarning: \n",
      "A value is trying to be set on a copy of a slice from a DataFrame.\n",
      "Try using .loc[row_indexer,col_indexer] = value instead\n",
      "\n",
      "See the caveats in the documentation: https://pandas.pydata.org/pandas-docs/stable/user_guide/indexing.html#returning-a-view-versus-a-copy\n",
      "  df_esp['date'] = pd.to_datetime(df_esp['date'],format='%Y-%m-%d')\n"
     ]
    }
   ],
   "source": [
    "df_esp['date'] = pd.to_datetime(df_esp['date'],format='%Y-%m-%d')"
   ]
  },
  {
   "cell_type": "code",
   "execution_count": 45,
   "id": "4163b3b8",
   "metadata": {},
   "outputs": [
    {
     "data": {
      "image/png": "[encoded data removed]",
      "text/plain": [
       "<Figure size 432x288 with 1 Axes>"
      ]
     },
     "metadata": {
      "needs_background": "light"
     },
     "output_type": "display_data"
    }
   ],
   "source": [
    "plt.plot( 'date', 'cfr', data=df_esp,  color='black', markersize=4,     linewidth=1)\n",
    "plt.xlabel(\"\")\n",
    "plt.ylabel(\"CFR\")\n",
    "plt.show()"
   ]
  },
  {
   "cell_type": "code",
   "execution_count": 6,
   "id": "c4fcaa1c",
   "metadata": {},
   "outputs": [
    {
     "data": {
      "text/plain": [
       "array(['Afghanistan', 'Angola', 'Albania', 'Andorra',\n",
       "       'United Arab Emirates', 'Argentina', 'Armenia',\n",
       "       'Antigua & Barbuda', 'Australia', 'Austria', 'Azerbaijan',\n",
       "       'Burundi', 'Belgium', 'Benin', 'Burkina Faso', 'Bangladesh',\n",
       "       'Bulgaria', 'Bahrain', 'Bahamas', 'Bosnia & Herzegovina',\n",
       "       'Belarus', 'Belize', 'Bolivia', 'Brazil', 'Barbados', 'Brunei',\n",
       "       'Bhutan', 'Botswana', 'Central African Republic', 'Canada',\n",
       "       'Switzerland', 'Chile', 'China', 'Côte d\\x92Ivoire', 'Cameroon',\n",
       "       'Congo - Kinshasa', 'Congo - Brazzaville', 'Colombia', 'Comoros',\n",
       "       'Cape Verde', 'Costa Rica', 'Cuba', 'Cyprus', 'Czechia', 'Germany',\n",
       "       'Djibouti', 'Dominica', 'Denmark', 'Dominican Republic', 'Algeria',\n",
       "       'Ecuador', 'Egypt', 'Spain', 'Estonia', 'Ethiopia', 'Finland',\n",
       "       'Fiji', 'France', 'Gabon', 'United Kingdom', 'Georgia', 'Ghana',\n",
       "       'Guinea', 'Gambia', 'Guinea-Bissau', 'Equatorial Guinea', 'Greece',\n",
       "       'Grenada', 'Guatemala', 'Guyana', 'Honduras', 'Croatia', 'Haiti',\n",
       "       'Hungary', 'Indonesia', 'India', 'Ireland', 'Iran', 'Iraq',\n",
       "       'Iceland', 'Israel', 'Italy', 'Jamaica', 'Jordan', 'Japan',\n",
       "       'Kazakhstan', 'Kenya', 'Kyrgyzstan', 'Cambodia', 'Kiribati',\n",
       "       'St. Kitts & Nevis', 'South Korea', 'Kuwait', 'Laos', 'Lebanon',\n",
       "       'Liberia', 'Libya', 'St. Lucia', 'Liechtenstein', 'Sri Lanka',\n",
       "       'Lesotho', 'Lithuania', 'Luxembourg', 'Latvia', 'Morocco',\n",
       "       'Monaco', 'Moldova', 'Madagascar', 'Maldives', 'Mexico',\n",
       "       'Marshall Islands', 'North Macedonia', 'Mali', 'Malta',\n",
       "       'Myanmar (Burma)', 'Montenegro', 'Mongolia', 'Mozambique',\n",
       "       'Mauritania', 'Mauritius', 'Malawi', 'Malaysia', 'Namibia',\n",
       "       'Niger', 'Nigeria', 'Nicaragua', 'Netherlands', 'Norway', 'Nepal',\n",
       "       'New Zealand', 'Oman', 'Pakistan', 'Panama', 'Peru', 'Philippines',\n",
       "       'Palau', 'Papua New Guinea', 'Poland', 'Portugal', 'Paraguay',\n",
       "       'Palestinian Territories', 'Qatar', 'Romania', 'Russia', 'Rwanda',\n",
       "       'Saudi Arabia', 'Sudan', 'Senegal', 'Singapore', 'Solomon Islands',\n",
       "       'Sierra Leone', 'El Salvador', 'San Marino', 'Somalia', 'Serbia',\n",
       "       'South Sudan', 'São Tomé & Príncipe', 'Suriname', 'Slovakia',\n",
       "       'Slovenia', 'Sweden', 'Eswatini', 'Seychelles', 'Syria', 'Chad',\n",
       "       'Togo', 'Thailand', 'Tajikistan', 'Timor-Leste',\n",
       "       'Trinidad & Tobago', 'Tunisia', 'Turkey', 'Tanzania', 'Uganda',\n",
       "       'Ukraine', 'Uruguay', 'United States', 'Uzbekistan',\n",
       "       'St. Vincent & Grenadines', 'Venezuela', 'Vietnam', 'Vanuatu',\n",
       "       'Samoa', 'Yemen', 'South Africa', 'Zambia', 'Zimbabwe'],\n",
       "      dtype=object)"
      ]
     },
     "execution_count": 6,
     "metadata": {},
     "output_type": "execute_result"
    }
   ],
   "source": [
    "df['country'].unique()"
   ]
  },
  {
   "cell_type": "code",
   "execution_count": 7,
   "id": "4abea070",
   "metadata": {},
   "outputs": [],
   "source": [
    "from pandas.api.types import CategoricalDtype\n",
    "cats=['Fri', 'Sat', 'Sun','Mon','Tue','Wed','Thu']\n",
    "cat_type = CategoricalDtype(categories=cats, ordered=True)\n",
    "df['weekdays'] = df['weekdays'].astype(cat_type)"
   ]
  },
  {
   "cell_type": "code",
   "execution_count": 8,
   "id": "bd8c2c7d",
   "metadata": {},
   "outputs": [],
   "source": [
    "from pandas.api.types import CategoricalDtype\n",
    "cats=['Jan', 'Feb', 'Mar','Apr','May','Jun','Jul','Aug','Sep','Oct','Nov','Dec']\n",
    "cat_type = CategoricalDtype(categories=cats, ordered=True)\n",
    "df['month'] = df['month'].astype(cat_type)"
   ]
  },
  {
   "cell_type": "code",
   "execution_count": 9,
   "id": "fea9ff0f",
   "metadata": {},
   "outputs": [],
   "source": [
    "import numpy as np"
   ]
  },
  {
   "cell_type": "code",
   "execution_count": 10,
   "id": "69b2e1e7",
   "metadata": {},
   "outputs": [],
   "source": [
    "dfspa=df[df['country']=='Spain']"
   ]
  },
  {
   "cell_type": "code",
   "execution_count": 13,
   "id": "a7725df2",
   "metadata": {},
   "outputs": [],
   "source": [
    "statsw=dfspa.groupby(\"weekdays\").agg({\"dcases\": [np.mean, np.std, np.size]})"
   ]
  },
  {
   "cell_type": "code",
   "execution_count": 14,
   "id": "79991fdf",
   "metadata": {},
   "outputs": [
    {
     "data": {
      "text/html": [
       "<div>\n",
       "<style scoped>\n",
       "    .dataframe tbody tr th:only-of-type {\n",
       "        vertical-align: middle;\n",
       "    }\n",
       "\n",
       "    .dataframe tbody tr th {\n",
       "        vertical-align: top;\n",
       "    }\n",
       "\n",
       "    .dataframe thead tr th {\n",
       "        text-align: left;\n",
       "    }\n",
       "\n",
       "    .dataframe thead tr:last-of-type th {\n",
       "        text-align: right;\n",
       "    }\n",
       "</style>\n",
       "<table border=\"1\" class=\"dataframe\">\n",
       "  <thead>\n",
       "    <tr>\n",
       "      <th></th>\n",
       "      <th colspan=\"3\" halign=\"left\">dcases</th>\n",
       "    </tr>\n",
       "    <tr>\n",
       "      <th></th>\n",
       "      <th>mean</th>\n",
       "      <th>std</th>\n",
       "      <th>size</th>\n",
       "    </tr>\n",
       "    <tr>\n",
       "      <th>weekdays</th>\n",
       "      <th></th>\n",
       "      <th></th>\n",
       "      <th></th>\n",
       "    </tr>\n",
       "  </thead>\n",
       "  <tbody>\n",
       "    <tr>\n",
       "      <th>Fri</th>\n",
       "      <td>9218.48</td>\n",
       "      <td>9731.579494</td>\n",
       "      <td>100</td>\n",
       "    </tr>\n",
       "    <tr>\n",
       "      <th>Sat</th>\n",
       "      <td>442.36</td>\n",
       "      <td>1553.745091</td>\n",
       "      <td>100</td>\n",
       "    </tr>\n",
       "    <tr>\n",
       "      <th>Sun</th>\n",
       "      <td>334.35</td>\n",
       "      <td>1220.187371</td>\n",
       "      <td>100</td>\n",
       "    </tr>\n",
       "    <tr>\n",
       "      <th>Mon</th>\n",
       "      <td>21455.90</td>\n",
       "      <td>28578.156222</td>\n",
       "      <td>100</td>\n",
       "    </tr>\n",
       "    <tr>\n",
       "      <th>Tue</th>\n",
       "      <td>9442.79</td>\n",
       "      <td>13815.834132</td>\n",
       "      <td>100</td>\n",
       "    </tr>\n",
       "    <tr>\n",
       "      <th>Wed</th>\n",
       "      <td>10655.59</td>\n",
       "      <td>14180.472504</td>\n",
       "      <td>100</td>\n",
       "    </tr>\n",
       "    <tr>\n",
       "      <th>Thu</th>\n",
       "      <td>12246.34</td>\n",
       "      <td>18980.281514</td>\n",
       "      <td>100</td>\n",
       "    </tr>\n",
       "  </tbody>\n",
       "</table>\n",
       "</div>"
      ],
      "text/plain": [
       "            dcases                   \n",
       "              mean           std size\n",
       "weekdays                             \n",
       "Fri        9218.48   9731.579494  100\n",
       "Sat         442.36   1553.745091  100\n",
       "Sun         334.35   1220.187371  100\n",
       "Mon       21455.90  28578.156222  100\n",
       "Tue        9442.79  13815.834132  100\n",
       "Wed       10655.59  14180.472504  100\n",
       "Thu       12246.34  18980.281514  100"
      ]
     },
     "execution_count": 14,
     "metadata": {},
     "output_type": "execute_result"
    }
   ],
   "source": [
    "statsw"
   ]
  },
  {
   "cell_type": "code",
   "execution_count": 15,
   "id": "a791994e",
   "metadata": {},
   "outputs": [],
   "source": [
    "statsm=dfspa.groupby(\"month\").agg({\"dcases\": [np.mean, np.std, np.size]})"
   ]
  },
  {
   "cell_type": "code",
   "execution_count": 16,
   "id": "f3374e0d",
   "metadata": {},
   "outputs": [
    {
     "data": {
      "text/html": [
       "<div>\n",
       "<style scoped>\n",
       "    .dataframe tbody tr th:only-of-type {\n",
       "        vertical-align: middle;\n",
       "    }\n",
       "\n",
       "    .dataframe tbody tr th {\n",
       "        vertical-align: top;\n",
       "    }\n",
       "\n",
       "    .dataframe thead tr th {\n",
       "        text-align: left;\n",
       "    }\n",
       "\n",
       "    .dataframe thead tr:last-of-type th {\n",
       "        text-align: right;\n",
       "    }\n",
       "</style>\n",
       "<table border=\"1\" class=\"dataframe\">\n",
       "  <thead>\n",
       "    <tr>\n",
       "      <th></th>\n",
       "      <th colspan=\"3\" halign=\"left\">dcases</th>\n",
       "    </tr>\n",
       "    <tr>\n",
       "      <th></th>\n",
       "      <th>mean</th>\n",
       "      <th>std</th>\n",
       "      <th>size</th>\n",
       "    </tr>\n",
       "    <tr>\n",
       "      <th>month</th>\n",
       "      <th></th>\n",
       "      <th></th>\n",
       "      <th></th>\n",
       "    </tr>\n",
       "  </thead>\n",
       "  <tbody>\n",
       "    <tr>\n",
       "      <th>Jan</th>\n",
       "      <td>26285.612903</td>\n",
       "      <td>25555.867233</td>\n",
       "      <td>31</td>\n",
       "    </tr>\n",
       "    <tr>\n",
       "      <th>Feb</th>\n",
       "      <td>7815.421053</td>\n",
       "      <td>14627.859436</td>\n",
       "      <td>57</td>\n",
       "    </tr>\n",
       "    <tr>\n",
       "      <th>Mar</th>\n",
       "      <td>4290.725806</td>\n",
       "      <td>4465.881071</td>\n",
       "      <td>62</td>\n",
       "    </tr>\n",
       "    <tr>\n",
       "      <th>Apr</th>\n",
       "      <td>6121.166667</td>\n",
       "      <td>5264.454047</td>\n",
       "      <td>60</td>\n",
       "    </tr>\n",
       "    <tr>\n",
       "      <th>May</th>\n",
       "      <td>2914.983871</td>\n",
       "      <td>3754.182810</td>\n",
       "      <td>62</td>\n",
       "    </tr>\n",
       "    <tr>\n",
       "      <th>Jun</th>\n",
       "      <td>2339.366667</td>\n",
       "      <td>3207.421627</td>\n",
       "      <td>60</td>\n",
       "    </tr>\n",
       "    <tr>\n",
       "      <th>Jul</th>\n",
       "      <td>10924.758065</td>\n",
       "      <td>15554.827483</td>\n",
       "      <td>62</td>\n",
       "    </tr>\n",
       "    <tr>\n",
       "      <th>Aug</th>\n",
       "      <td>9392.854839</td>\n",
       "      <td>10472.226537</td>\n",
       "      <td>62</td>\n",
       "    </tr>\n",
       "    <tr>\n",
       "      <th>Sep</th>\n",
       "      <td>6839.266667</td>\n",
       "      <td>7689.122122</td>\n",
       "      <td>60</td>\n",
       "    </tr>\n",
       "    <tr>\n",
       "      <th>Oct</th>\n",
       "      <td>7557.209677</td>\n",
       "      <td>10514.125810</td>\n",
       "      <td>62</td>\n",
       "    </tr>\n",
       "    <tr>\n",
       "      <th>Nov</th>\n",
       "      <td>10259.083333</td>\n",
       "      <td>12454.371794</td>\n",
       "      <td>60</td>\n",
       "    </tr>\n",
       "    <tr>\n",
       "      <th>Dec</th>\n",
       "      <td>22753.580645</td>\n",
       "      <td>38711.980398</td>\n",
       "      <td>62</td>\n",
       "    </tr>\n",
       "  </tbody>\n",
       "</table>\n",
       "</div>"
      ],
      "text/plain": [
       "             dcases                   \n",
       "               mean           std size\n",
       "month                                 \n",
       "Jan    26285.612903  25555.867233   31\n",
       "Feb     7815.421053  14627.859436   57\n",
       "Mar     4290.725806   4465.881071   62\n",
       "Apr     6121.166667   5264.454047   60\n",
       "May     2914.983871   3754.182810   62\n",
       "Jun     2339.366667   3207.421627   60\n",
       "Jul    10924.758065  15554.827483   62\n",
       "Aug     9392.854839  10472.226537   62\n",
       "Sep     6839.266667   7689.122122   60\n",
       "Oct     7557.209677  10514.125810   62\n",
       "Nov    10259.083333  12454.371794   60\n",
       "Dec    22753.580645  38711.980398   62"
      ]
     },
     "execution_count": 16,
     "metadata": {},
     "output_type": "execute_result"
    }
   ],
   "source": [
    "statsm"
   ]
  },
  {
   "cell_type": "code",
   "execution_count": 17,
   "id": "87959bd1",
   "metadata": {},
   "outputs": [],
   "source": [
    "import numpy as np\n",
    "import scipy.stats "
   ]
  },
  {
   "cell_type": "code",
   "execution_count": null,
   "id": "d73cf992",
   "metadata": {},
   "outputs": [],
   "source": [
    "#Now we calculate confidence intervals"
   ]
  },
  {
   "cell_type": "code",
   "execution_count": 46,
   "id": "94c12c13",
   "metadata": {},
   "outputs": [
    {
     "data": {
      "text/plain": [
       "CategoricalIndex(['Jan', 'Feb', 'Mar', 'Apr', 'May', 'Jun', 'Jul', 'Aug',\n",
       "                  'Sep', 'Oct', 'Nov', 'Dec'],\n",
       "                 categories=['Jan', 'Feb', 'Mar', 'Apr', 'May', 'Jun', 'Jul', 'Aug', ...], ordered=True, dtype='category', name='month')"
      ]
     },
     "execution_count": 46,
     "metadata": {},
     "output_type": "execute_result"
    }
   ],
   "source": [
    "statsm.index"
   ]
  },
  {
   "cell_type": "code",
   "execution_count": 47,
   "id": "1caaa6af",
   "metadata": {},
   "outputs": [],
   "source": [
    "ci95_hi = []\n",
    "ci95_lo = []"
   ]
  },
  {
   "cell_type": "code",
   "execution_count": 48,
   "id": "229f80bc",
   "metadata": {},
   "outputs": [],
   "source": [
    "for i in statsm.index:\n",
    "    m, s, n = statsm.loc[i]\n",
    "    x=scipy.stats.t.interval(.95, n-1, m,s/np.sqrt(n-1))\n",
    "    ci95_hi.append(x[1])\n",
    "    ci95_lo.append(x[0])"
   ]
  },
  {
   "cell_type": "code",
   "execution_count": 49,
   "id": "96a61171",
   "metadata": {},
   "outputs": [
    {
     "data": {
      "text/plain": [
       "[35814.53279747936,\n",
       " 11731.215659509651,\n",
       " 5434.105529846451,\n",
       " 7492.595950318675,\n",
       " 3876.1506451628034,\n",
       " 3174.923764217064,\n",
       " 14907.191555416826,\n",
       " 12074.012552141854,\n",
       " 8842.339948364654,\n",
       " 10249.094675743598,\n",
       " 13503.539460371436,\n",
       " 32664.83728908943]"
      ]
     },
     "execution_count": 49,
     "metadata": {},
     "output_type": "execute_result"
    }
   ],
   "source": [
    "ci95_hi"
   ]
  },
  {
   "cell_type": "code",
   "execution_count": 50,
   "id": "3c833b7f",
   "metadata": {},
   "outputs": [
    {
     "data": {
      "text/plain": [
       "[16756.693008972252,\n",
       " 3899.626445753507,\n",
       " 3147.3460830567747,\n",
       " 4749.737383014659,\n",
       " 1953.8170967726805,\n",
       " 1503.8095691162694,\n",
       " 6942.324573615432,\n",
       " 6711.697125277502,\n",
       " 4836.193384968679,\n",
       " 4865.3246790951125,\n",
       " 7014.627206295232,\n",
       " 12842.324001233153]"
      ]
     },
     "execution_count": 50,
     "metadata": {},
     "output_type": "execute_result"
    }
   ],
   "source": [
    "ci95_lo"
   ]
  },
  {
   "cell_type": "code",
   "execution_count": 51,
   "id": "e8b07cdd",
   "metadata": {},
   "outputs": [
    {
     "name": "stdout",
     "output_type": "stream",
     "text": [
      "             dcases                          ci95_hi       ci95_lo\n",
      "               mean           std size                            \n",
      "month                                                             \n",
      "Jan    26285.612903  25555.867233   31  35814.532797  16756.693009\n",
      "Feb     7815.421053  14627.859436   57  11731.215660   3899.626446\n",
      "Mar     4290.725806   4465.881071   62   5434.105530   3147.346083\n",
      "Apr     6121.166667   5264.454047   60   7492.595950   4749.737383\n",
      "May     2914.983871   3754.182810   62   3876.150645   1953.817097\n",
      "Jun     2339.366667   3207.421627   60   3174.923764   1503.809569\n",
      "Jul    10924.758065  15554.827483   62  14907.191555   6942.324574\n",
      "Aug     9392.854839  10472.226537   62  12074.012552   6711.697125\n",
      "Sep     6839.266667   7689.122122   60   8842.339948   4836.193385\n",
      "Oct     7557.209677  10514.125810   62  10249.094676   4865.324679\n",
      "Nov    10259.083333  12454.371794   60  13503.539460   7014.627206\n",
      "Dec    22753.580645  38711.980398   62  32664.837289  12842.324001\n"
     ]
    }
   ],
   "source": [
    "statsm['ci95_hi'] = ci95_hi\n",
    "statsm['ci95_lo'] = ci95_lo\n",
    "print(statsm)"
   ]
  },
  {
   "cell_type": "code",
   "execution_count": 52,
   "id": "7b98b741",
   "metadata": {},
   "outputs": [],
   "source": [
    "df_ci= pd.DataFrame(statsm)"
   ]
  },
  {
   "cell_type": "code",
   "execution_count": 53,
   "id": "3106f0d1",
   "metadata": {},
   "outputs": [
    {
     "data": {
      "text/html": [
       "<div>\n",
       "<style scoped>\n",
       "    .dataframe tbody tr th:only-of-type {\n",
       "        vertical-align: middle;\n",
       "    }\n",
       "\n",
       "    .dataframe tbody tr th {\n",
       "        vertical-align: top;\n",
       "    }\n",
       "\n",
       "    .dataframe thead tr th {\n",
       "        text-align: left;\n",
       "    }\n",
       "\n",
       "    .dataframe thead tr:last-of-type th {\n",
       "        text-align: right;\n",
       "    }\n",
       "</style>\n",
       "<table border=\"1\" class=\"dataframe\">\n",
       "  <thead>\n",
       "    <tr>\n",
       "      <th></th>\n",
       "      <th colspan=\"3\" halign=\"left\">dcases</th>\n",
       "      <th>ci95_hi</th>\n",
       "      <th>ci95_lo</th>\n",
       "    </tr>\n",
       "    <tr>\n",
       "      <th></th>\n",
       "      <th>mean</th>\n",
       "      <th>std</th>\n",
       "      <th>size</th>\n",
       "      <th></th>\n",
       "      <th></th>\n",
       "    </tr>\n",
       "    <tr>\n",
       "      <th>month</th>\n",
       "      <th></th>\n",
       "      <th></th>\n",
       "      <th></th>\n",
       "      <th></th>\n",
       "      <th></th>\n",
       "    </tr>\n",
       "  </thead>\n",
       "  <tbody>\n",
       "    <tr>\n",
       "      <th>Jan</th>\n",
       "      <td>26285.612903</td>\n",
       "      <td>25555.867233</td>\n",
       "      <td>31</td>\n",
       "      <td>35814.532797</td>\n",
       "      <td>16756.693009</td>\n",
       "    </tr>\n",
       "    <tr>\n",
       "      <th>Feb</th>\n",
       "      <td>7815.421053</td>\n",
       "      <td>14627.859436</td>\n",
       "      <td>57</td>\n",
       "      <td>11731.215660</td>\n",
       "      <td>3899.626446</td>\n",
       "    </tr>\n",
       "    <tr>\n",
       "      <th>Mar</th>\n",
       "      <td>4290.725806</td>\n",
       "      <td>4465.881071</td>\n",
       "      <td>62</td>\n",
       "      <td>5434.105530</td>\n",
       "      <td>3147.346083</td>\n",
       "    </tr>\n",
       "    <tr>\n",
       "      <th>Apr</th>\n",
       "      <td>6121.166667</td>\n",
       "      <td>5264.454047</td>\n",
       "      <td>60</td>\n",
       "      <td>7492.595950</td>\n",
       "      <td>4749.737383</td>\n",
       "    </tr>\n",
       "    <tr>\n",
       "      <th>May</th>\n",
       "      <td>2914.983871</td>\n",
       "      <td>3754.182810</td>\n",
       "      <td>62</td>\n",
       "      <td>3876.150645</td>\n",
       "      <td>1953.817097</td>\n",
       "    </tr>\n",
       "    <tr>\n",
       "      <th>Jun</th>\n",
       "      <td>2339.366667</td>\n",
       "      <td>3207.421627</td>\n",
       "      <td>60</td>\n",
       "      <td>3174.923764</td>\n",
       "      <td>1503.809569</td>\n",
       "    </tr>\n",
       "    <tr>\n",
       "      <th>Jul</th>\n",
       "      <td>10924.758065</td>\n",
       "      <td>15554.827483</td>\n",
       "      <td>62</td>\n",
       "      <td>14907.191555</td>\n",
       "      <td>6942.324574</td>\n",
       "    </tr>\n",
       "    <tr>\n",
       "      <th>Aug</th>\n",
       "      <td>9392.854839</td>\n",
       "      <td>10472.226537</td>\n",
       "      <td>62</td>\n",
       "      <td>12074.012552</td>\n",
       "      <td>6711.697125</td>\n",
       "    </tr>\n",
       "    <tr>\n",
       "      <th>Sep</th>\n",
       "      <td>6839.266667</td>\n",
       "      <td>7689.122122</td>\n",
       "      <td>60</td>\n",
       "      <td>8842.339948</td>\n",
       "      <td>4836.193385</td>\n",
       "    </tr>\n",
       "    <tr>\n",
       "      <th>Oct</th>\n",
       "      <td>7557.209677</td>\n",
       "      <td>10514.125810</td>\n",
       "      <td>62</td>\n",
       "      <td>10249.094676</td>\n",
       "      <td>4865.324679</td>\n",
       "    </tr>\n",
       "    <tr>\n",
       "      <th>Nov</th>\n",
       "      <td>10259.083333</td>\n",
       "      <td>12454.371794</td>\n",
       "      <td>60</td>\n",
       "      <td>13503.539460</td>\n",
       "      <td>7014.627206</td>\n",
       "    </tr>\n",
       "    <tr>\n",
       "      <th>Dec</th>\n",
       "      <td>22753.580645</td>\n",
       "      <td>38711.980398</td>\n",
       "      <td>62</td>\n",
       "      <td>32664.837289</td>\n",
       "      <td>12842.324001</td>\n",
       "    </tr>\n",
       "  </tbody>\n",
       "</table>\n",
       "</div>"
      ],
      "text/plain": [
       "             dcases                          ci95_hi       ci95_lo\n",
       "               mean           std size                            \n",
       "month                                                             \n",
       "Jan    26285.612903  25555.867233   31  35814.532797  16756.693009\n",
       "Feb     7815.421053  14627.859436   57  11731.215660   3899.626446\n",
       "Mar     4290.725806   4465.881071   62   5434.105530   3147.346083\n",
       "Apr     6121.166667   5264.454047   60   7492.595950   4749.737383\n",
       "May     2914.983871   3754.182810   62   3876.150645   1953.817097\n",
       "Jun     2339.366667   3207.421627   60   3174.923764   1503.809569\n",
       "Jul    10924.758065  15554.827483   62  14907.191555   6942.324574\n",
       "Aug     9392.854839  10472.226537   62  12074.012552   6711.697125\n",
       "Sep     6839.266667   7689.122122   60   8842.339948   4836.193385\n",
       "Oct     7557.209677  10514.125810   62  10249.094676   4865.324679\n",
       "Nov    10259.083333  12454.371794   60  13503.539460   7014.627206\n",
       "Dec    22753.580645  38711.980398   62  32664.837289  12842.324001"
      ]
     },
     "execution_count": 53,
     "metadata": {},
     "output_type": "execute_result"
    }
   ],
   "source": [
    "df_ci"
   ]
  },
  {
   "cell_type": "code",
   "execution_count": 54,
   "id": "08a02c25",
   "metadata": {},
   "outputs": [
    {
     "data": {
      "text/plain": [
       "CategoricalIndex(['Jan', 'Feb', 'Mar', 'Apr', 'May', 'Jun', 'Jul', 'Aug',\n",
       "                  'Sep', 'Oct', 'Nov', 'Dec'],\n",
       "                 categories=['Jan', 'Feb', 'Mar', 'Apr', 'May', 'Jun', 'Jul', 'Aug', ...], ordered=True, dtype='category', name='month')"
      ]
     },
     "execution_count": 54,
     "metadata": {},
     "output_type": "execute_result"
    }
   ],
   "source": [
    "df_ci.index"
   ]
  },
  {
   "cell_type": "code",
   "execution_count": 55,
   "id": "d670a317",
   "metadata": {},
   "outputs": [],
   "source": [
    "df_ci['month']=df_ci.index"
   ]
  },
  {
   "cell_type": "code",
   "execution_count": 56,
   "id": "d458014b",
   "metadata": {},
   "outputs": [
    {
     "data": {
      "text/html": [
       "<div>\n",
       "<style scoped>\n",
       "    .dataframe tbody tr th:only-of-type {\n",
       "        vertical-align: middle;\n",
       "    }\n",
       "\n",
       "    .dataframe tbody tr th {\n",
       "        vertical-align: top;\n",
       "    }\n",
       "\n",
       "    .dataframe thead tr th {\n",
       "        text-align: left;\n",
       "    }\n",
       "\n",
       "    .dataframe thead tr:last-of-type th {\n",
       "        text-align: right;\n",
       "    }\n",
       "</style>\n",
       "<table border=\"1\" class=\"dataframe\">\n",
       "  <thead>\n",
       "    <tr>\n",
       "      <th></th>\n",
       "      <th colspan=\"3\" halign=\"left\">dcases</th>\n",
       "      <th>ci95_hi</th>\n",
       "      <th>ci95_lo</th>\n",
       "      <th>month</th>\n",
       "    </tr>\n",
       "    <tr>\n",
       "      <th></th>\n",
       "      <th>mean</th>\n",
       "      <th>std</th>\n",
       "      <th>size</th>\n",
       "      <th></th>\n",
       "      <th></th>\n",
       "      <th></th>\n",
       "    </tr>\n",
       "    <tr>\n",
       "      <th>month</th>\n",
       "      <th></th>\n",
       "      <th></th>\n",
       "      <th></th>\n",
       "      <th></th>\n",
       "      <th></th>\n",
       "      <th></th>\n",
       "    </tr>\n",
       "  </thead>\n",
       "  <tbody>\n",
       "    <tr>\n",
       "      <th>Jan</th>\n",
       "      <td>26285.612903</td>\n",
       "      <td>25555.867233</td>\n",
       "      <td>31</td>\n",
       "      <td>35814.532797</td>\n",
       "      <td>16756.693009</td>\n",
       "      <td>Jan</td>\n",
       "    </tr>\n",
       "    <tr>\n",
       "      <th>Feb</th>\n",
       "      <td>7815.421053</td>\n",
       "      <td>14627.859436</td>\n",
       "      <td>57</td>\n",
       "      <td>11731.215660</td>\n",
       "      <td>3899.626446</td>\n",
       "      <td>Feb</td>\n",
       "    </tr>\n",
       "    <tr>\n",
       "      <th>Mar</th>\n",
       "      <td>4290.725806</td>\n",
       "      <td>4465.881071</td>\n",
       "      <td>62</td>\n",
       "      <td>5434.105530</td>\n",
       "      <td>3147.346083</td>\n",
       "      <td>Mar</td>\n",
       "    </tr>\n",
       "    <tr>\n",
       "      <th>Apr</th>\n",
       "      <td>6121.166667</td>\n",
       "      <td>5264.454047</td>\n",
       "      <td>60</td>\n",
       "      <td>7492.595950</td>\n",
       "      <td>4749.737383</td>\n",
       "      <td>Apr</td>\n",
       "    </tr>\n",
       "    <tr>\n",
       "      <th>May</th>\n",
       "      <td>2914.983871</td>\n",
       "      <td>3754.182810</td>\n",
       "      <td>62</td>\n",
       "      <td>3876.150645</td>\n",
       "      <td>1953.817097</td>\n",
       "      <td>May</td>\n",
       "    </tr>\n",
       "    <tr>\n",
       "      <th>Jun</th>\n",
       "      <td>2339.366667</td>\n",
       "      <td>3207.421627</td>\n",
       "      <td>60</td>\n",
       "      <td>3174.923764</td>\n",
       "      <td>1503.809569</td>\n",
       "      <td>Jun</td>\n",
       "    </tr>\n",
       "    <tr>\n",
       "      <th>Jul</th>\n",
       "      <td>10924.758065</td>\n",
       "      <td>15554.827483</td>\n",
       "      <td>62</td>\n",
       "      <td>14907.191555</td>\n",
       "      <td>6942.324574</td>\n",
       "      <td>Jul</td>\n",
       "    </tr>\n",
       "    <tr>\n",
       "      <th>Aug</th>\n",
       "      <td>9392.854839</td>\n",
       "      <td>10472.226537</td>\n",
       "      <td>62</td>\n",
       "      <td>12074.012552</td>\n",
       "      <td>6711.697125</td>\n",
       "      <td>Aug</td>\n",
       "    </tr>\n",
       "    <tr>\n",
       "      <th>Sep</th>\n",
       "      <td>6839.266667</td>\n",
       "      <td>7689.122122</td>\n",
       "      <td>60</td>\n",
       "      <td>8842.339948</td>\n",
       "      <td>4836.193385</td>\n",
       "      <td>Sep</td>\n",
       "    </tr>\n",
       "    <tr>\n",
       "      <th>Oct</th>\n",
       "      <td>7557.209677</td>\n",
       "      <td>10514.125810</td>\n",
       "      <td>62</td>\n",
       "      <td>10249.094676</td>\n",
       "      <td>4865.324679</td>\n",
       "      <td>Oct</td>\n",
       "    </tr>\n",
       "    <tr>\n",
       "      <th>Nov</th>\n",
       "      <td>10259.083333</td>\n",
       "      <td>12454.371794</td>\n",
       "      <td>60</td>\n",
       "      <td>13503.539460</td>\n",
       "      <td>7014.627206</td>\n",
       "      <td>Nov</td>\n",
       "    </tr>\n",
       "    <tr>\n",
       "      <th>Dec</th>\n",
       "      <td>22753.580645</td>\n",
       "      <td>38711.980398</td>\n",
       "      <td>62</td>\n",
       "      <td>32664.837289</td>\n",
       "      <td>12842.324001</td>\n",
       "      <td>Dec</td>\n",
       "    </tr>\n",
       "  </tbody>\n",
       "</table>\n",
       "</div>"
      ],
      "text/plain": [
       "             dcases                          ci95_hi       ci95_lo month\n",
       "               mean           std size                                  \n",
       "month                                                                   \n",
       "Jan    26285.612903  25555.867233   31  35814.532797  16756.693009   Jan\n",
       "Feb     7815.421053  14627.859436   57  11731.215660   3899.626446   Feb\n",
       "Mar     4290.725806   4465.881071   62   5434.105530   3147.346083   Mar\n",
       "Apr     6121.166667   5264.454047   60   7492.595950   4749.737383   Apr\n",
       "May     2914.983871   3754.182810   62   3876.150645   1953.817097   May\n",
       "Jun     2339.366667   3207.421627   60   3174.923764   1503.809569   Jun\n",
       "Jul    10924.758065  15554.827483   62  14907.191555   6942.324574   Jul\n",
       "Aug     9392.854839  10472.226537   62  12074.012552   6711.697125   Aug\n",
       "Sep     6839.266667   7689.122122   60   8842.339948   4836.193385   Sep\n",
       "Oct     7557.209677  10514.125810   62  10249.094676   4865.324679   Oct\n",
       "Nov    10259.083333  12454.371794   60  13503.539460   7014.627206   Nov\n",
       "Dec    22753.580645  38711.980398   62  32664.837289  12842.324001   Dec"
      ]
     },
     "execution_count": 56,
     "metadata": {},
     "output_type": "execute_result"
    }
   ],
   "source": [
    "df_ci"
   ]
  },
  {
   "cell_type": "code",
   "execution_count": 57,
   "id": "f089ca62",
   "metadata": {},
   "outputs": [],
   "source": [
    "import matplotlib.pyplot as plt"
   ]
  },
  {
   "cell_type": "code",
   "execution_count": 58,
   "id": "4a894152",
   "metadata": {},
   "outputs": [
    {
     "data": {
      "text/plain": [
       "([<matplotlib.axis.YTick at 0x7fea9eeb5580>,\n",
       "  <matplotlib.axis.YTick at 0x7fea9eeacdc0>,\n",
       "  <matplotlib.axis.YTick at 0x7fea9eeac430>,\n",
       "  <matplotlib.axis.YTick at 0x7fea9ef299d0>,\n",
       "  <matplotlib.axis.YTick at 0x7fea9ef33160>,\n",
       "  <matplotlib.axis.YTick at 0x7fea9ef338b0>,\n",
       "  <matplotlib.axis.YTick at 0x7fea9ef35100>,\n",
       "  <matplotlib.axis.YTick at 0x7fea9ef33cd0>,\n",
       "  <matplotlib.axis.YTick at 0x7fea9ef29bb0>,\n",
       "  <matplotlib.axis.YTick at 0x7fea9ef359d0>,\n",
       "  <matplotlib.axis.YTick at 0x7fea9ef3e160>,\n",
       "  <matplotlib.axis.YTick at 0x7fea9ef3e8b0>],\n",
       " [Text(0, 0, 'Jan'),\n",
       "  Text(0, 1, 'Feb'),\n",
       "  Text(0, 2, 'Mar'),\n",
       "  Text(0, 3, 'Apr'),\n",
       "  Text(0, 4, 'May'),\n",
       "  Text(0, 5, 'Jun'),\n",
       "  Text(0, 6, 'Jul'),\n",
       "  Text(0, 7, 'Aug'),\n",
       "  Text(0, 8, 'Sep'),\n",
       "  Text(0, 9, 'Oct'),\n",
       "  Text(0, 10, 'Nov'),\n",
       "  Text(0, 11, 'Dec')])"
      ]
     },
     "execution_count": 58,
     "metadata": {},
     "output_type": "execute_result"
    },
    {
     "data": {
      "image/png": "[encoded data removed]",
      "text/plain": [
       "<Figure size 432x288 with 1 Axes>"
      ]
     },
     "metadata": {
      "needs_background": "light"
     },
     "output_type": "display_data"
    }
   ],
   "source": [
    "for lb,ub,y in zip(df_ci['ci95_lo'],df_ci['ci95_hi'],range(len(df_ci))):\n",
    "    plt.plot((lb,ub),(y,y),'ro-')\n",
    "plt.yticks(range(len(df_ci)),list(df_ci['month']))"
   ]
  },
  {
   "cell_type": "code",
   "execution_count": null,
   "id": "22ad2b6c",
   "metadata": {},
   "outputs": [],
   "source": []
  }
 ],
 "metadata": {
  "kernelspec": {
   "display_name": "Python 3 (ipykernel)",
   "language": "python",
   "name": "python3"
  },
  "language_info": {
   "codemirror_mode": {
    "name": "ipython",
    "version": 3
   },
   "file_extension": ".py",
   "mimetype": "text/x-python",
   "name": "python",
   "nbconvert_exporter": "python",
   "pygments_lexer": "ipython3",
   "version": "3.9.7"
  }
 },
 "nbformat": 4,
 "nbformat_minor": 5
}
